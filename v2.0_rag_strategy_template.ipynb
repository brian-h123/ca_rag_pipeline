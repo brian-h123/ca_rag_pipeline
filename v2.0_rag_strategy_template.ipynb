{
 "cells": [
  {
   "cell_type": "markdown",
   "metadata": {},
   "source": [
    "# V2.0 RAG with Strategy Template\n",
    "Replace CA markdown files with Python Strategy templates for Data Ingestion"
   ]
  },
  {
   "cell_type": "markdown",
   "metadata": {},
   "source": [
    "## Takeaways\n",
    "1. Adjustment to using .py files from markdown files\n",
    "    - For Data ingestion, we have to use ```PythonLoader``` to properly load the python source code\n",
    "    - We specify Python as our language to get a tailored list of separators for text splitting\n",
    "\n",
    "2. Chroma vectorstores.reset_Collection()\n",
    "    - When rerunning the code\n",
    "     ```vectorstore = Chroma.from_documents(documents=text_chunks, embedding=OpenAIEmbeddings())```\n",
    "     , remember to reset the vectorstore collection to avoid duplicate documents\n",
    "\n",
    "3. Text Splitter Arguments\n",
    "    - Different ```chunk_size``` and ```chunk_overlap``` can impact the LLM output generation drastically. While the model temperature (default 0.7) could be a key factor to output variation, the two parameters help create 'relationships' between each text chunks\n",
    "    - If the ```chunk_size``` is too big, the retriever may be forced to retrieve more documents than the number of documents that are actually relevant\n",
    "    - If ```chunk_overlap``` is too small (or 0), retriever may fail to retrieve chunks that are actually relevant to the query.\n",
    "\n",
    "### Issues / Possible Improvements\n",
    "1. LLM model temperature\n",
    "    - The default model temperature is 0.7. This means that the model is being allowed to generate more random outputs. As a result, it is worth investigating which set of temperature (as well as other key configurations such as top_p) works well for code generation tasks.\n",
    "\n",
    "2. Retrieval results changes given the same query\n",
    "    - While rerunning the same code cells, sometimes the retrieval results changes. Given that we are using vector store retriever with default similarity search, what are factors that affect the retrieval results?"
   ]
  },
  {
   "cell_type": "code",
   "execution_count": 1,
   "metadata": {},
   "outputs": [
    {
     "name": "stdout",
     "output_type": "stream",
     "text": [
      "Note: you may need to restart the kernel to use updated packages.\n",
      "Note: you may need to restart the kernel to use updated packages.\n",
      "Note: you may need to restart the kernel to use updated packages.\n",
      "Note: you may need to restart the kernel to use updated packages.\n",
      "Note: you may need to restart the kernel to use updated packages.\n"
     ]
    }
   ],
   "source": [
    "%pip install --user -qU langchain\n",
    "%pip install --user -qU langchain_community\n",
    "%pip install --user -qU langchain_chroma\n",
    "%pip install --user -qU langchain-openai\n",
    "%pip install --user -qU langchainhub"
   ]
  },
  {
   "cell_type": "code",
   "execution_count": 2,
   "metadata": {},
   "outputs": [],
   "source": [
    "import os\n",
    "import getpass\n",
    "\n",
    "os.environ['OPENAI_API_KEY'] = getpass.getpass()\n",
    "\n",
    "from langchain_openai import ChatOpenAI\n",
    "llm = ChatOpenAI(model=\"gpt-3.5-turbo-0125\")"
   ]
  },
  {
   "cell_type": "markdown",
   "metadata": {},
   "source": [
    "To load the Python files, we will use the PythonLoader from langchain_community.document_loaders\n",
    "\n",
    "This is different from the previous version where we load the markdown files using UnstructuredMarkdownLoader"
   ]
  },
  {
   "cell_type": "code",
   "execution_count": 3,
   "metadata": {},
   "outputs": [],
   "source": [
    "from langchain import hub\n",
    "from langchain_openai import OpenAIEmbeddings\n",
    "from langchain_chroma import Chroma\n",
    "from langchain_community.document_loaders import PythonLoader\n",
    "from langchain_text_splitters import ( Language, RecursiveCharacterTextSplitter)\n",
    "from langchain_core.runnables import RunnablePassthrough\n",
    "from langchain_core.output_parsers import StrOutputParser"
   ]
  },
  {
   "cell_type": "code",
   "execution_count": 4,
   "metadata": {},
   "outputs": [],
   "source": [
    "folder_path = \"strategy-template\"\n",
    "\n",
    "documents = []\n",
    "for filename in os.listdir(folder_path):\n",
    "    file_path = os.path.join(folder_path, filename)\n",
    "    if os.path.isfile(file_path):\n",
    "        loader = PythonLoader(file_path)\n",
    "        loaded_docs = loader.load()\n",
    "        # Add source metadata to each document\n",
    "        for doc in loaded_docs:\n",
    "            doc.metadata[\"source\"] = filename\n",
    "        documents.extend(loaded_docs)"
   ]
  },
  {
   "cell_type": "code",
   "execution_count": 5,
   "metadata": {},
   "outputs": [
    {
     "name": "stdout",
     "output_type": "stream",
     "text": [
      "page_content='class Strategy(StrategyBase):\n",
      "    def __init__(self):\n",
      "        # strategy property\n",
      "        self.subscribed_books = {}\n",
      "        self.period = 45 * 60\n",
      "        self.options = {}\n",
      "\n",
      "        self.divide_quote = 0\n",
      "        self.proportion = 0.2\n",
      "        self.aroon_period = 14\n",
      "\n",
      "    def on_order_state_change(self,  order):\n",
      "        pass\n",
      "\n",
      "    def trade(self, candles):\n",
      "        exchange, pair, base, quote = CA.get_exchange_pair()\n",
      "        \n",
      "        close_price_history = [candle['close'] for candle in candles[exchange][pair]]\n",
      "        high_price_history = [candle['high'] for candle in candles[exchange][pair]]\n",
      "        low_price_history = [candle['low'] for candle in candles[exchange][pair]]\n",
      "        open_price_history = [candle['open'] for candle in candles[exchange][pair]]\n",
      "\n",
      "        # convert to chronological order for talib\n",
      "        close_price_history.reverse()\n",
      "        high_price_history.reverse()\n",
      "        low_price_history.reverse()\n",
      "        open_price_history.reverse()\n",
      "\n",
      "        # convert to np.array\n",
      "        close_price_history = np.array(close_price_history)\n",
      "        high_price_history = np.array(high_price_history)\n",
      "        low_price_history = np.array(low_price_history)\n",
      "        open_price_history = np.array(open_price_history)\n",
      "\n",
      "        close_price = close_price_history[-1]\n",
      "        high_price = high_price_history[-1]\n",
      "\n",
      "        # get available balance\n",
      "        base_balance = CA.get_balance(exchange, base)\n",
      "        quote_balance = CA.get_balance(exchange, quote)\n",
      "        available_base_amount = base_balance.available\n",
      "        available_quote_amount = quote_balance.available\n",
      "\n",
      "        if self.divide_quote == 0:\n",
      "            self.divide_quote = np.round(available_quote_amount* self.proportion, 5)\n",
      "\n",
      "        aroondown, aroonup = talib.AROON(high_price_history, low_price_history, timeperiod=self.aroon_period)\n",
      "        aroon_down = aroondown[-1]\n",
      "        aroon_up = aroonup[-1]\n",
      "\n",
      "        signal = 0\n",
      "        # Aroon-Up above 50 and Aroon-Up larger than Aroon-Down mean the market is bullish\n",
      "        if aroon_up > 50 and aroon_up > aroon_down:\n",
      "            signal = 1\n",
      "\n",
      "        # Aroon-Down above 50 and Aroon-Dwon larger than Aroon-Up mean the market is bearish\n",
      "        elif aroon_down > 50 and aroon_down > aroon_up:\n",
      "            signal = -1\n",
      "\n",
      "        # place buy order\n",
      "        if signal == 1:\n",
      "            amount = self.divide_quote/high_price\n",
      "            if available_quote_amount >= amount * close_price:\n",
      "                CA.log('Buy ' + base)\n",
      "                CA.buy(exchange, pair, amount, CA.OrderType.MARKET)\n",
      "\n",
      "        # place sell order\n",
      "        elif signal == -1:\n",
      "            if available_base_amount > 0.00001:\n",
      "                self.divide_quote = 0\n",
      "                CA.log('Sell ' + base)\n",
      "                CA.sell(exchange, pair, available_base_amount, CA.OrderType.MARKET)\n",
      "        return \n",
      "' metadata={'source': 'Aroon-en.py'}\n"
     ]
    }
   ],
   "source": [
    "print(documents[0])"
   ]
  },
  {
   "cell_type": "markdown",
   "metadata": {},
   "source": [
    "In addition, we add an extra parameter to the RecursiveCharacterTextSplitter to specify the language as PYTHON\n",
    "\n",
    "After the initial test, we found out that different argument values for the text splitter will lead to different output generation. "
   ]
  },
  {
   "cell_type": "markdown",
   "metadata": {},
   "source": [
    "## Text Splitter 1\n",
    "\n",
    "- Chunk_size = 500\n",
    "- Chunk_overlap = 0"
   ]
  },
  {
   "cell_type": "code",
   "execution_count": 6,
   "metadata": {},
   "outputs": [],
   "source": [
    "text_splitter = RecursiveCharacterTextSplitter.from_language(\n",
    "    language=Language.PYTHON, \n",
    "    chunk_size=500, \n",
    "    chunk_overlap=0,\n",
    "    length_function=len,\n",
    "    add_start_index=True\n",
    ")\n",
    "text_chunks = text_splitter.split_documents(documents)"
   ]
  },
  {
   "cell_type": "code",
   "execution_count": 7,
   "metadata": {},
   "outputs": [
    {
     "data": {
      "text/plain": [
       "{'source': 'Aroon-en.py', 'start_index': 0}"
      ]
     },
     "execution_count": 7,
     "metadata": {},
     "output_type": "execute_result"
    }
   ],
   "source": [
    "text_chunks[0].metadata"
   ]
  },
  {
   "cell_type": "code",
   "execution_count": 8,
   "metadata": {},
   "outputs": [
    {
     "name": "stdout",
     "output_type": "stream",
     "text": [
      "class Strategy(StrategyBase):\n",
      "    def __init__(self):\n",
      "        # strategy property\n",
      "        self.subscribed_books = {}\n",
      "        self.period = 45 * 60\n",
      "        self.options = {}\n",
      "\n",
      "        self.divide_quote = 0\n",
      "        self.proportion = 0.2\n",
      "        self.aroon_period = 14\n",
      "\n",
      "    def on_order_state_change(self,  order):\n",
      "        pass\n"
     ]
    }
   ],
   "source": [
    "print(text_chunks[0].page_content)"
   ]
  },
  {
   "cell_type": "code",
   "execution_count": 9,
   "metadata": {},
   "outputs": [
    {
     "name": "stdout",
     "output_type": "stream",
     "text": [
      "{'source': 'RSI-en.py', 'start_index': 0}\n",
      "{'source': 'RSI-en.py', 'start_index': 458}\n",
      "{'source': 'RSI-en.py', 'start_index': 846}\n",
      "{'source': 'RSI-en.py', 'start_index': 1302}\n",
      "{'source': 'RSI-en.py', 'start_index': 1786}\n",
      "{'source': 'RSI-en.py', 'start_index': 2162}\n",
      "{'source': 'RSI-en.py', 'start_index': 2626}\n",
      "{'source': 'RSI-en.py', 'start_index': 2917}\n",
      "{'source': 'RSI-en.py', 'start_index': 3406}\n",
      "{'source': 'RSI-en.py', 'start_index': 3675}\n",
      "{'source': 'RSI-en.py', 'start_index': 4176}\n",
      "{'source': 'RSI-en.py', 'start_index': 4201}\n",
      "{'source': 'RSI-en.py', 'start_index': 4671}\n",
      "{'source': 'RSI-en.py', 'start_index': 4748}\n"
     ]
    }
   ],
   "source": [
    "# View the chunks that has the source of 'RSI-en.py'\n",
    "rsi_chunks = [chunk for chunk in text_chunks if chunk.metadata['source'] == 'RSI-en.py']\n",
    "for chunk in rsi_chunks:\n",
    "    print(chunk.metadata)"
   ]
  },
  {
   "cell_type": "code",
   "execution_count": 10,
   "metadata": {},
   "outputs": [],
   "source": [
    "vectorstore = Chroma.from_documents(documents=text_chunks, embedding=OpenAIEmbeddings())"
   ]
  },
  {
   "cell_type": "code",
   "execution_count": 11,
   "metadata": {},
   "outputs": [],
   "source": [
    "retriever = vectorstore.as_retriever()"
   ]
  },
  {
   "cell_type": "code",
   "execution_count": 12,
   "metadata": {},
   "outputs": [],
   "source": [
    "from langchain.chains import create_retrieval_chain\n",
    "from langchain.chains.combine_documents import create_stuff_documents_chain\n",
    "from langchain_core.prompts import ChatPromptTemplate"
   ]
  },
  {
   "cell_type": "markdown",
   "metadata": {},
   "source": [
    "For prompting, we will be using Prompt 1 from v1.0_rag_with_custom_prompt.ipynb \n",
    "\n",
    "We will compare the LLM output to see the effects of different ingested data."
   ]
  },
  {
   "cell_type": "code",
   "execution_count": 13,
   "metadata": {},
   "outputs": [],
   "source": [
    "system_prompt = (\n",
    "    \"\"\"\n",
    "    You are a coding assistant with expertise in Crypto Arsenal's documentation.Here is a set of Crypto Arsenal's documentation retrieved to answer the question: \\n -------- \\n {context} \\n -------- \\n Ensure any code you provide can be executed with all the required imports and variables defined. If you do not know the answer or require further clarification, just say that you do not know.\n",
    "    \"\"\"\n",
    ")\n",
    "\n",
    "prompt = ChatPromptTemplate.from_messages(\n",
    "    [\n",
    "        (\"system\", system_prompt),\n",
    "        (\"human\", \"{input}\"),\n",
    "    ]\n",
    ")\n",
    "\n",
    "question_answer_chain = create_stuff_documents_chain(llm, prompt)\n",
    "rag_chain = create_retrieval_chain(retriever, question_answer_chain)"
   ]
  },
  {
   "cell_type": "code",
   "execution_count": 14,
   "metadata": {},
   "outputs": [
    {
     "name": "stdout",
     "output_type": "stream",
     "text": [
      "To create a strategy where you buy Bitcoin if its Relative Strength Index (RSI) drops below 30 and sell if it goes above 70, you can use the following Python code snippet based on the provided Crypto Arsenal's documentation:\n",
      "\n",
      "```python\n",
      "# Define the RSI thresholds\n",
      "rsi_lower_threshold = 30\n",
      "rsi_upper_threshold = 70\n",
      "\n",
      "# Assume you have access to the following variables: curr_rsi_short, curr_rsi_long\n",
      "\n",
      "# Initialize the signal to 0\n",
      "signal = 0\n",
      "\n",
      "# Buy signal if RSI drops below 30\n",
      "if curr_rsi_short < rsi_lower_threshold:\n",
      "    signal = 1\n",
      "\n",
      "# Sell signal if RSI goes above 70\n",
      "if curr_rsi_short > rsi_upper_threshold:\n",
      "    signal = -1\n",
      "\n",
      "# Print the signal\n",
      "print(\"Signal:\", signal)\n",
      "```\n",
      "\n",
      "In this code snippet:\n",
      "- `rsi_lower_threshold` is set to 30, indicating the threshold below which you want to buy Bitcoin.\n",
      "- `rsi_upper_threshold` is set to 70, indicating the threshold above which you want to sell Bitcoin.\n",
      "- The strategy checks the current RSI (`curr_rsi_short`) against these thresholds and generates a signal accordingly.\n",
      "- If the RSI drops below 30, it sets the signal to 1 (buy).\n",
      "- If the RSI goes above 70, it sets the signal to -1 (sell).\n",
      "\n",
      "Please make sure you have the necessary data (such as `curr_rsi_short`) available and properly set up to run this strategy effectively. Let me know if you need further assistance or have any additional requirements.\n"
     ]
    }
   ],
   "source": [
    "response = rag_chain.invoke({\"input\": \"I want to create a strategy where I buy Bitcoin if its RSI drops below 30 and sell if it goes above 70.\"})\n",
    "print(response[\"answer\"])"
   ]
  },
  {
   "cell_type": "code",
   "execution_count": 15,
   "metadata": {},
   "outputs": [
    {
     "name": "stdout",
     "output_type": "stream",
     "text": [
      "Source: RSI-en.py\n",
      "Source: RSI-en.py\n",
      "Source: Pressure_Line-en.py\n",
      "Source: RSI-en.py\n"
     ]
    }
   ],
   "source": [
    "for document in response[\"context\"]:\n",
    "    print(f\"Source: {document.metadata['source']}, Start_index: {document.metadata['start_index']}\")\n",
    "    #print('#############################################################')"
   ]
  },
  {
   "cell_type": "markdown",
   "metadata": {},
   "source": [
    "To inspect the actual similarity score of the retriever results, we implement a function referenced from LangChain (https://python.langchain.com/v0.2/docs/how_to/add_scores_retriever/)"
   ]
  },
  {
   "cell_type": "code",
   "execution_count": 16,
   "metadata": {},
   "outputs": [],
   "source": [
    "from typing import List\n",
    "\n",
    "from langchain_core.documents import Document\n",
    "from langchain_core.runnables import chain\n",
    "\n",
    "@chain\n",
    "def retriever(query: str) -> List[Document]:\n",
    "    docs, scores = zip(*vectorstore.similarity_search_with_score(query))\n",
    "    for doc, score in zip(docs, scores):\n",
    "        doc.metadata[\"score\"] = score\n",
    "\n",
    "    return docs"
   ]
  },
  {
   "cell_type": "code",
   "execution_count": 17,
   "metadata": {},
   "outputs": [
    {
     "data": {
      "text/plain": [
       "(Document(metadata={'source': 'RSI-en.py', 'start_index': 2626, 'score': 0.45297005772590637}, page_content='# holding long position \\n        elif available_base_amount > self.divide_quote/high_price:\\n            if curr_rsi_short < curr_rsi_long and prev_rsi_short > prev_rsi_long:\\n                signal = 2\\n            if curr_rsi_short >  self.rsi_upper_band:\\n                signal = 2'),\n",
       " Document(metadata={'source': 'RSI-en.py', 'start_index': 2162, 'score': 0.46861037611961365}, page_content='# initialize signal to be 0\\n        signal = 0\\n        if available_base_amount< self.divide_quote/high_price and available_base_amount > -self.divide_quote/high_price:\\n            # open long position\\n            if curr_rsi_short > curr_rsi_long and prev_rsi_short < prev_rsi_long:\\n                signal = 1\\n            # open short position\\n            if curr_rsi_short < curr_rsi_long and prev_rsi_short > prev_rsi_long:\\n                signal = -1'),\n",
       " Document(metadata={'source': 'Pressure_Line-en.py', 'start_index': 7344, 'score': 0.4823268949985504}, page_content='profit = self.buy_price - current_price'),\n",
       " Document(metadata={'source': 'RSI-en.py', 'start_index': 2917, 'score': 0.48361846804618835}, page_content=\"# holding short position\\n        elif available_base_amount < -self.divide_quote/high_price:\\n            if curr_rsi_short > curr_rsi_long and prev_rsi_short < prev_rsi_long:\\n                signal = -2\\n            if curr_rsi_short < self.rsi_lower_band:\\n                signal = -2\\n            \\n        # Sell short\\n        if signal == -1:\\n            self['is_shorting'] = 'true'\\n            CA.log('Sell short ' + str(base))\\n            return [\\n                {\"))"
      ]
     },
     "execution_count": 17,
     "metadata": {},
     "output_type": "execute_result"
    }
   ],
   "source": [
    "result = retriever.invoke(\"I want to create a strategy where I buy Bitcoin if its RSI drops below 30 and sell if it goes above 70.\")\n",
    "result"
   ]
  },
  {
   "cell_type": "markdown",
   "metadata": {},
   "source": [
    "## Text Splitter 2\n",
    "- Chunk_size = 1000\n",
    "- Chunk_overlap = 0"
   ]
  },
  {
   "cell_type": "code",
   "execution_count": 18,
   "metadata": {},
   "outputs": [],
   "source": [
    "# Reseting Chroma vectorstore collection\n",
    "vectorstore.reset_collection()"
   ]
  },
  {
   "cell_type": "code",
   "execution_count": 19,
   "metadata": {},
   "outputs": [],
   "source": [
    "text_splitter = RecursiveCharacterTextSplitter.from_language(\n",
    "    language=Language.PYTHON, \n",
    "    chunk_size=1000, \n",
    "    chunk_overlap=0,\n",
    "    length_function=len,\n",
    "    add_start_index=True\n",
    ")\n",
    "text_chunks = text_splitter.split_documents(documents)"
   ]
  },
  {
   "cell_type": "code",
   "execution_count": 20,
   "metadata": {},
   "outputs": [
    {
     "name": "stdout",
     "output_type": "stream",
     "text": [
      "{'source': 'RSI-en.py', 'start_index': 0}\n",
      "{'source': 'RSI-en.py', 'start_index': 1009}\n",
      "{'source': 'RSI-en.py', 'start_index': 1786}\n",
      "{'source': 'RSI-en.py', 'start_index': 2626}\n",
      "{'source': 'RSI-en.py', 'start_index': 2917}\n",
      "{'source': 'RSI-en.py', 'start_index': 3675}\n",
      "{'source': 'RSI-en.py', 'start_index': 4201}\n"
     ]
    }
   ],
   "source": [
    "# View the chunks that has the source of 'RSI-en.py'\n",
    "rsi_chunks = [chunk for chunk in text_chunks if chunk.metadata['source'] == 'RSI-en.py']\n",
    "for chunk in rsi_chunks:\n",
    "    print(chunk.metadata)"
   ]
  },
  {
   "cell_type": "code",
   "execution_count": 21,
   "metadata": {},
   "outputs": [],
   "source": [
    "vectorstore = Chroma.from_documents(documents=text_chunks, embedding=OpenAIEmbeddings())\n",
    "retriever = vectorstore.as_retriever()"
   ]
  },
  {
   "cell_type": "code",
   "execution_count": 22,
   "metadata": {},
   "outputs": [],
   "source": [
    "from langchain.chains import create_retrieval_chain\n",
    "from langchain.chains.combine_documents import create_stuff_documents_chain\n",
    "from langchain_core.prompts import ChatPromptTemplate"
   ]
  },
  {
   "cell_type": "code",
   "execution_count": 23,
   "metadata": {},
   "outputs": [],
   "source": [
    "system_prompt = (\n",
    "    \"\"\"\n",
    "    You are a coding assistant with expertise in Crypto Arsenal's documentation.Here is a set of Crypto Arsenal's documentation retrieved to answer the question: \\n -------- \\n {context} \\n -------- \\n Ensure any code you provide can be executed with all the required imports and variables defined. If you do not know the answer or require further clarification, just say that you do not know.\n",
    "    \"\"\"\n",
    ")\n",
    "\n",
    "prompt = ChatPromptTemplate.from_messages(\n",
    "    [\n",
    "        (\"system\", system_prompt),\n",
    "        (\"human\", \"{input}\"),\n",
    "    ]\n",
    ")\n",
    "\n",
    "question_answer_chain = create_stuff_documents_chain(llm, prompt)\n",
    "rag_chain = create_retrieval_chain(retriever, question_answer_chain)"
   ]
  },
  {
   "cell_type": "code",
   "execution_count": 24,
   "metadata": {},
   "outputs": [
    {
     "name": "stdout",
     "output_type": "stream",
     "text": [
      "To create a strategy where you buy Bitcoin when its Relative Strength Index (RSI) drops below 30 and sell when it goes above 70, you can use the following Python code snippet based on the provided Crypto Arsenal documentation:\n",
      "\n",
      "```python\n",
      "# Define RSI thresholds\n",
      "rsi_lower_band = 30\n",
      "rsi_upper_band = 70\n",
      "\n",
      "# Simulated RSI values for demonstration\n",
      "curr_rsi_short = 25\n",
      "curr_rsi_long = 70\n",
      "prev_rsi_short = 20\n",
      "prev_rsi_long = 65\n",
      "\n",
      "# Initialize signal\n",
      "signal = 0\n",
      "\n",
      "# Buy signal when RSI drops below 30\n",
      "if curr_rsi_short < rsi_lower_band and prev_rsi_short > prev_rsi_long:\n",
      "    signal = 1\n",
      "# Sell signal when RSI goes above 70\n",
      "elif curr_rsi_short > rsi_upper_band:\n",
      "    signal = -1\n",
      "\n",
      "# Output the signal\n",
      "print(\"Signal:\", signal)\n",
      "```\n",
      "\n",
      "In this code snippet:\n",
      "- The RSI thresholds are set to 30 (lower band) and 70 (upper band).\n",
      "- Simulated RSI values are provided for demonstration purposes.\n",
      "- The code checks if the current RSI is below 30 and the previous short RSI was higher than the previous long RSI to trigger a buy signal.\n",
      "- It also checks if the current RSI is above 70 to trigger a sell signal.\n",
      "- The signal variable is used to indicate whether to buy (1), sell (-1), or do nothing (0).\n",
      "\n",
      "You can replace the simulated RSI values with actual RSI values from your data source to implement this strategy in a live trading environment.\n"
     ]
    }
   ],
   "source": [
    "response = rag_chain.invoke({\"input\": \"I want to create a strategy where I buy Bitcoin if its RSI drops below 30 and sell if it goes above 70.\"})\n",
    "print(response[\"answer\"])"
   ]
  },
  {
   "cell_type": "code",
   "execution_count": 26,
   "metadata": {},
   "outputs": [
    {
     "name": "stdout",
     "output_type": "stream",
     "text": [
      "Source: RSI-en.py, Start_index: 2626\n",
      "Source: Double_Bottom-en.py, Start_index: 4269\n",
      "Source: RSI-en.py, Start_index: 2917\n",
      "Source: RSI-en.py, Start_index: 1786\n"
     ]
    }
   ],
   "source": [
    "for document in response[\"context\"]:\n",
    "    print(f\"Source: {document.metadata['source']}, Start_index: {document.metadata['start_index']}\")\n",
    "    #print(document.page_content)\n",
    "    #print('#############################################################')"
   ]
  },
  {
   "cell_type": "code",
   "execution_count": 27,
   "metadata": {},
   "outputs": [],
   "source": [
    "from typing import List\n",
    "\n",
    "from langchain_core.documents import Document\n",
    "from langchain_core.runnables import chain\n",
    "\n",
    "@chain\n",
    "def retriever(query: str) -> List[Document]:\n",
    "    docs, scores = zip(*vectorstore.similarity_search_with_score(query))\n",
    "    for doc, score in zip(docs, scores):\n",
    "        doc.metadata[\"score\"] = score\n",
    "\n",
    "    return docs"
   ]
  },
  {
   "cell_type": "code",
   "execution_count": 28,
   "metadata": {},
   "outputs": [
    {
     "data": {
      "text/plain": [
       "(Document(metadata={'source': 'RSI-en.py', 'start_index': 2626, 'score': 0.45302292704582214}, page_content='# holding long position \\n        elif available_base_amount > self.divide_quote/high_price:\\n            if curr_rsi_short < curr_rsi_long and prev_rsi_short > prev_rsi_long:\\n                signal = 2\\n            if curr_rsi_short >  self.rsi_upper_band:\\n                signal = 2'),\n",
       " Document(metadata={'source': 'Double_Bottom-en.py', 'start_index': 4269, 'score': 0.47116613388061523}, page_content='# signal = 1 then buy, signal = -1 then sell\\n        signal = 0        \\n        if self.double_bottom:\\n            curr_close = close_price_history[-1]\\n            # price goes above neckline\\n            if curr_close > self.neckline:\\n                # open position\\n                if available_base_amount >= -0.0001 and available_base_amount <= 0.0001: \\n                    signal = 1\\n\\n                # already holding position\\n                elif available_base_amount > 0.0001:\\n                    if self.base_price != 0:\\n                        # sell if the profit is over 1%\\n                        if (curr_close - self.base_price) / self.base_price > self.profit_gain:\\n                            signal = -1\\n                        else:\\n                            signal = 1\\n           \\n            # price goes below neckline\\n            else:\\n                self.double_bottom = False\\n                if available_base_amount > 0.0001:\\n                    signal = -1'),\n",
       " Document(metadata={'source': 'RSI-en.py', 'start_index': 2917, 'score': 0.47593551874160767}, page_content=\"# holding short position\\n        elif available_base_amount < -self.divide_quote/high_price:\\n            if curr_rsi_short > curr_rsi_long and prev_rsi_short < prev_rsi_long:\\n                signal = -2\\n            if curr_rsi_short < self.rsi_lower_band:\\n                signal = -2\\n            \\n        # Sell short\\n        if signal == -1:\\n            self['is_shorting'] = 'true'\\n            CA.log('Sell short ' + str(base))\\n            return [\\n                {\\n                    'exchange': exchange,\\n                    'amount': -self.divide_quote/high_price*1.1,\\n                    'price': -1,\\n                    'type': 'MARKET',\\n                    'pair': pair,\\n                    'margin': True,\\n                }\\n            ]\"),\n",
       " Document(metadata={'source': 'RSI-en.py', 'start_index': 1786, 'score': 0.4772784411907196}, page_content='# get available balance\\n        base_balance = CA.get_balance(exchange, base)\\n        quote_balance = CA.get_balance(exchange, quote)\\n        available_base_amount = base_balance.available\\n        available_quote_amount = quote_balance.available\\n\\n        if self.divide_quote == 0:\\n            self.divide_quote = np.round(available_quote_amount* self.proportion, 5)\\n\\n        # initialize signal to be 0\\n        signal = 0\\n        if available_base_amount< self.divide_quote/high_price and available_base_amount > -self.divide_quote/high_price:\\n            # open long position\\n            if curr_rsi_short > curr_rsi_long and prev_rsi_short < prev_rsi_long:\\n                signal = 1\\n            # open short position\\n            if curr_rsi_short < curr_rsi_long and prev_rsi_short > prev_rsi_long:\\n                signal = -1'))"
      ]
     },
     "execution_count": 28,
     "metadata": {},
     "output_type": "execute_result"
    }
   ],
   "source": [
    "result = retriever.invoke(\"I want to create a strategy where I buy Bitcoin if its RSI drops below 30 and sell if it goes above 70.\")\n",
    "result"
   ]
  },
  {
   "cell_type": "markdown",
   "metadata": {},
   "source": [
    "## Text Splitter 3\n",
    "- Chunk_size = 3000 \n",
    "- Chunk_overlap = 0"
   ]
  },
  {
   "cell_type": "code",
   "execution_count": 29,
   "metadata": {},
   "outputs": [],
   "source": [
    "# Reseting Chroma vectorstore collection\n",
    "vectorstore.reset_collection()"
   ]
  },
  {
   "cell_type": "code",
   "execution_count": 30,
   "metadata": {},
   "outputs": [],
   "source": [
    "text_splitter = RecursiveCharacterTextSplitter.from_language(\n",
    "    language=Language.PYTHON, \n",
    "    chunk_size=3000, \n",
    "    chunk_overlap=0,\n",
    "    length_function=len,\n",
    "    add_start_index=True\n",
    ")\n",
    "text_chunks = text_splitter.split_documents(documents)"
   ]
  },
  {
   "cell_type": "code",
   "execution_count": 31,
   "metadata": {},
   "outputs": [
    {
     "name": "stdout",
     "output_type": "stream",
     "text": [
      "{'source': 'RSI-en.py', 'start_index': 0}\n",
      "{'source': 'RSI-en.py', 'start_index': 2917}\n"
     ]
    }
   ],
   "source": [
    "# View the chunks that has the source of 'RSI-en.py'\n",
    "rsi_chunks = [chunk for chunk in text_chunks if chunk.metadata['source'] == 'RSI-en.py']\n",
    "for chunk in rsi_chunks:\n",
    "    print(chunk.metadata)"
   ]
  },
  {
   "cell_type": "code",
   "execution_count": 32,
   "metadata": {},
   "outputs": [],
   "source": [
    "vectorstore = Chroma.from_documents(documents=text_chunks, embedding=OpenAIEmbeddings())\n",
    "retriever = vectorstore.as_retriever()"
   ]
  },
  {
   "cell_type": "code",
   "execution_count": 33,
   "metadata": {},
   "outputs": [],
   "source": [
    "system_prompt = (\n",
    "    \"\"\"\n",
    "    You are a coding assistant with expertise in Crypto Arsenal's documentation.Here is a set of Crypto Arsenal's documentation retrieved to answer the question: \\n -------- \\n {context} \\n -------- \\n Ensure any code you provide can be executed with all the required imports and variables defined. If you do not know the answer or require further clarification, just say that you do not know.\n",
    "    \"\"\"\n",
    ")\n",
    "\n",
    "prompt = ChatPromptTemplate.from_messages(\n",
    "    [\n",
    "        (\"system\", system_prompt),\n",
    "        (\"human\", \"{input}\"),\n",
    "    ]\n",
    ")\n",
    "\n",
    "question_answer_chain = create_stuff_documents_chain(llm, prompt)\n",
    "rag_chain = create_retrieval_chain(retriever, question_answer_chain)"
   ]
  },
  {
   "cell_type": "code",
   "execution_count": 34,
   "metadata": {},
   "outputs": [
    {
     "name": "stdout",
     "output_type": "stream",
     "text": [
      "To create a strategy where you buy Bitcoin if its RSI drops below 30 and sell if it goes above 70, you can modify the existing `trade` method in the provided documentation. Here's a modified version of the `trade` method for the given `Strategy` class:\n",
      "\n",
      "```python\n",
      "import numpy as np\n",
      "import talib\n",
      "\n",
      "class Strategy(StrategyBase):\n",
      "    def __init__(self):\n",
      "        # Initialize your strategy properties here\n",
      "        pass\n",
      "\n",
      "    def on_order_state_change(self, order):\n",
      "        pass\n",
      "\n",
      "    def trade(self, candles):\n",
      "        exchange, pair, base, quote = CA.get_exchange_pair()\n",
      "\n",
      "        close_price_history = [candle['close'] for candle in candles[exchange][pair]]\n",
      "        close_price_history.reverse()\n",
      "        close_price_history = np.array(close_price_history)\n",
      "\n",
      "        rsi = talib.RSI(close_price_history, timeperiod=14)  # Calculate RSI with a time period of 14\n",
      "\n",
      "        if len(rsi) < 2:\n",
      "            return []\n",
      "\n",
      "        curr_rsi = rsi[-1]\n",
      "        prev_rsi = rsi[-2]\n",
      "\n",
      "        # Get available balance\n",
      "        base_balance = CA.get_balance(exchange, base)\n",
      "        quote_balance = CA.get_balance(exchange, quote)\n",
      "        available_base_amount = base_balance.available\n",
      "        available_quote_amount = quote_balance.available\n",
      "\n",
      "        # Buy if RSI drops below 30\n",
      "        if curr_rsi < 30 and prev_rsi >= 30:\n",
      "            amount_to_buy = available_quote_amount / close_price_history[-1]  # Buy with all available quote amount\n",
      "            CA.buy(exchange, pair, amount_to_buy, CA.OrderType.MARKET)\n",
      "        \n",
      "        # Sell if RSI goes above 70\n",
      "        elif curr_rsi > 70 and prev_rsi <= 70:\n",
      "            CA.sell(exchange, pair, available_base_amount, CA.OrderType.MARKET)\n",
      "\n",
      "        return\n",
      "```\n",
      "\n",
      "In this modified `trade` method:\n",
      "1. The RSI is calculated based on the closing prices of the candles.\n",
      "2. If the current RSI drops below 30 and was above 30 in the previous period, the strategy buys Bitcoin with all available quote amount.\n",
      "3. If the current RSI goes above 70 and was below 70 in the previous period, the strategy sells all available Bitcoin.\n",
      "\n",
      "Make sure to adjust the parameters and conditions according to your specific requirements and the structure of the existing `Strategy` class in your codebase.\n"
     ]
    }
   ],
   "source": [
    "response = rag_chain.invoke({\"input\": \"I want to create a strategy where I buy Bitcoin if its RSI drops below 30 and sell if it goes above 70.\"})\n",
    "print(response[\"answer\"])"
   ]
  },
  {
   "cell_type": "code",
   "execution_count": 35,
   "metadata": {},
   "outputs": [
    {
     "name": "stdout",
     "output_type": "stream",
     "text": [
      "Source: RSI-en.py, Start_index: 0\n",
      "Source: Bollinger_Bands-en.py, Start_index: 0\n",
      "Source: 跳空-en.py, Start_index: 0\n",
      "Source: RSI-en.py, Start_index: 2917\n"
     ]
    }
   ],
   "source": [
    "for document in response[\"context\"]:\n",
    "    print(f\"Source: {document.metadata['source']}, Start_index: {document.metadata['start_index']}\")\n",
    "    #print(document.page_content)\n",
    "    #print('#############################################################')"
   ]
  },
  {
   "cell_type": "code",
   "execution_count": 36,
   "metadata": {},
   "outputs": [],
   "source": [
    "from typing import List\n",
    "\n",
    "from langchain_core.documents import Document\n",
    "from langchain_core.runnables import chain\n",
    "\n",
    "@chain\n",
    "def retriever(query: str) -> List[Document]:\n",
    "    docs, scores = zip(*vectorstore.similarity_search_with_score(query))\n",
    "    for doc, score in zip(docs, scores):\n",
    "        doc.metadata[\"score\"] = score\n",
    "\n",
    "    return docs"
   ]
  },
  {
   "cell_type": "code",
   "execution_count": 37,
   "metadata": {},
   "outputs": [
    {
     "data": {
      "text/plain": [
       "(Document(metadata={'source': 'RSI-en.py', 'start_index': 0, 'score': 0.4575255811214447}, page_content=\"class Strategy(StrategyBase):\\n    def __init__(self):\\n        # strategy property\\n        self.subscribed_books = {}\\n        self.period = 30 * 60\\n        self.options = {}\\n\\n        self.last_type = 'sell'\\n        self.short_period = 5\\n        self.long_period = 10\\n        self.divide_quote = 0\\n        self.proportion = 0.2\\n\\n        self.rsi_upper_band = 80\\n        self.rsi_lower_band = 20\\n\\n\\n    def on_order_state_change(self,  order):\\n        pass\\n\\n    # called every self.period\\n    def trade(self, candles):\\n        exchange, pair, base, quote = CA.get_exchange_pair()\\n        \\n        close_price_history = [candle['close'] for candle in candles[exchange][pair]]\\n        high_price_history = [candle['high'] for candle in candles[exchange][pair]]\\n        low_price_history = [candle['low'] for candle in candles[exchange][pair]]\\n\\n        # convert to chronological order for talib\\n        close_price_history.reverse()\\n        high_price_history.reverse()\\n        low_price_history.reverse()\\n\\n        # convert np.array\\n        close_price_history = np.array(close_price_history)\\n        high_price_history = np.array(high_price_history)\\n        low_price_history = np.array(low_price_history)\\n\\n        close_price = close_price_history[-1]\\n        high_price = high_price_history[-1]\\n\\n        rsi_short = talib.RSI(close_price_history, self.short_period)\\n        rsi_long = talib.RSI(close_price_history, self.long_period)\\n        \\n        if len(close_price_history) < self.long_period + 1:\\n            return []\\n        \\n        # current rsi, short and long period respectively\\n        curr_rsi_short = rsi_short[-1]\\n        curr_rsi_long = rsi_long[-1]\\n\\n        # previous time stamp rsi\\n        prev_rsi_short = rsi_short[-2]\\n        prev_rsi_long = rsi_long[-2]\\n\\n        # get available balance\\n        base_balance = CA.get_balance(exchange, base)\\n        quote_balance = CA.get_balance(exchange, quote)\\n        available_base_amount = base_balance.available\\n        available_quote_amount = quote_balance.available\\n\\n        if self.divide_quote == 0:\\n            self.divide_quote = np.round(available_quote_amount* self.proportion, 5)\\n\\n        # initialize signal to be 0\\n        signal = 0\\n        if available_base_amount< self.divide_quote/high_price and available_base_amount > -self.divide_quote/high_price:\\n            # open long position\\n            if curr_rsi_short > curr_rsi_long and prev_rsi_short < prev_rsi_long:\\n                signal = 1\\n            # open short position\\n            if curr_rsi_short < curr_rsi_long and prev_rsi_short > prev_rsi_long:\\n                signal = -1\\n\\n        # holding long position \\n        elif available_base_amount > self.divide_quote/high_price:\\n            if curr_rsi_short < curr_rsi_long and prev_rsi_short > prev_rsi_long:\\n                signal = 2\\n            if curr_rsi_short >  self.rsi_upper_band:\\n                signal = 2\"),\n",
       " Document(metadata={'source': 'Bollinger_Bands-en.py', 'start_index': 0, 'score': 0.4740222096443176}, page_content=\"class Strategy(StrategyBase):\\n\\n    def __init__(self):\\n        # strategy property\\n        self.subscribed_books = {}\\n        self.period = 30 * 60\\n        self.options = {}\\n\\n        self.last_type = 'sell'\\n        self.ma_period = 20\\n        self.divide_quote = 0\\n        self.proportion = 0.2\\n\\n\\n    def on_order_state_change(self,  order):\\n        pass\\n\\n    # called every self.period\\n    def trade(self, candles):\\n        exchange, pair, base, quote = CA.get_exchange_pair()\\n        \\n        close_price_history = [candle['close'] for candle in candles[exchange][pair]]\\n        high_price_history = [candle['high'] for candle in candles[exchange][pair]]\\n        low_price_history = [candle['low'] for candle in candles[exchange][pair]]\\n\\n        # convert to chronological order for talib\\n        close_price_history.reverse()\\n        high_price_history.reverse()\\n        low_price_history.reverse()\\n\\n        # convert np.array\\n        close_price_history = np.array(close_price_history)\\n        high_price_history = np.array(high_price_history)\\n        low_price_history = np.array(low_price_history)\\n\\n        close_price = close_price_history[-1]\\n        high_price = high_price_history[-1]\\n\\n        upper, middle, lower = talib.BBANDS(close_price_history)\\n        ma = talib.SMA(close_price_history, self.ma_period)\\n\\n        if len(ma) < 2 or len(upper) < 2:\\n            return []\\n\\n        # moving average\\n        ma_curr = ma[-1]\\n        ma_prev = ma[-2]\\n\\n        # bollinger band upper band\\n        upper_curr = upper[-1]\\n        upper_prev = upper[-2]\\n\\n        # bollinger band lower band\\n        lower_curr = lower[-1]\\n        lower_prev = lower[-2]\\n\\n        # get available balance\\n        base_balance = CA.get_balance(exchange, base)\\n        quote_balance = CA.get_balance(exchange, quote)\\n        available_base_amount = base_balance.available\\n        available_quote_amount = quote_balance.available\\n\\n        if self.divide_quote == 0:\\n            self.divide_quote = np.round(available_quote_amount* self.proportion, 5)\\n\\n        # buy if signal is 1, sell if it's 2, sell short if it's -1, buy to cover if it's -2\\n        signal = 0\\n        amount = self.divide_quote/high_price\\n\\n        # up trend\\n        if ma_curr > ma_prev and upper_curr > upper_prev and lower_curr > lower_prev:\\n            \\n            # open long position\\n            if available_base_amount< amount and available_base_amount > -amount:\\n                signal = 1\"),\n",
       " Document(metadata={'source': '跳空-en.py', 'start_index': 0, 'score': 0.4793509840965271}, page_content=\"class Strategy(StrategyBase):\\n    def __init__(self):\\n        # strategy property\\n        self.subscribed_books = {}\\n        self.period = 15 * 60\\n        self.options = {}\\n\\n        self.jump_percent = 0\\n        self.fetch_records = 2\\n        self.stop_loss = 0.05\\n        self.base = 0\\n        self.accumulate = 0\\n        self.limit_no = 1\\n        self.proportion = 0.2\\n        self.divide_quote = 0\\n\\n    def on_order_state_change(self,  order):\\n        pass\\n\\n    # called every self.period\\n    def trade(self, candles):\\n        exchange, pair, base, quote = CA.get_exchange_pair()\\n        \\n        close_price_history = [candle['close'] for candle in candles[exchange][pair]]\\n        open_price_history = [candle['open'] for candle in candles[exchange][pair]]\\n        high_price_history = [candle['high'] for candle in candles[exchange][pair]]\\n        low_price_history = [candle['low'] for candle in candles[exchange][pair]]\\n        trade_volume_history = [candle['volume'] for candle in candles[exchange][pair]]\\n\\n        # convert to chronological order for talib\\n        close_price_history.reverse()\\n        open_price_history.reverse()\\n        high_price_history.reverse()\\n        low_price_history.reverse()\\n        trade_volume_history.reverse()\\n\\n        # convert np.array\\n        close_price_history = np.array(close_price_history)\\n        open_price_history = np.array(open_price_history)\\n        high_price_history = np.array(high_price_history)\\n        low_price_history = np.array(low_price_history)\\n        trade_volume_history = np.array(trade_volume_history)\\n\\n        close_price = close_price_history[-1]\\n        high_price = high_price_history[-1]\\n\\n        if len(close_price_history) < self.fetch_records :\\n            return []\\n\\n        # get available balance\\n        base_balance = CA.get_balance(exchange, base)\\n        quote_balance = CA.get_balance(exchange, quote)\\n        available_base_amount = base_balance.available\\n        available_quote_amount = quote_balance.available\\n\\n        # calculate amount with 20% of available asset\\n        if self.divide_quote == 0:\\n            self.divide_quote = np.round(available_quote_amount* self.proportion, 5)\\n\\n        high_base = high_price_history[-2]\\n        high_jump = high_base * self.jump_percent\\n        low_base = low_price_history[-2]\\n        low_jump = low_base * self.jump_percent\\n\\n        signal = 0\\n       # not holding any position\\n        if available_base_amount < self.divide_quote/high_price and available_base_amount > (-1 * self.divide_quote/high_price):\\n           \\n           # buy\\n            if open_price_history[-1] > (high_base + high_jump):\\n               signal = 1\\n               self.base = high_base\\n\\n            # short\\n            elif open_price_history[-1] < (low_base - low_jump):\\n                signal = -1\\n                self.base = low_base\"),\n",
       " Document(metadata={'source': 'RSI-en.py', 'start_index': 2917, 'score': 0.47985294461250305}, page_content=\"# holding short position\\n        elif available_base_amount < -self.divide_quote/high_price:\\n            if curr_rsi_short > curr_rsi_long and prev_rsi_short < prev_rsi_long:\\n                signal = -2\\n            if curr_rsi_short < self.rsi_lower_band:\\n                signal = -2\\n            \\n        # Sell short\\n        if signal == -1:\\n            self['is_shorting'] = 'true'\\n            CA.log('Sell short ' + str(base))\\n            return [\\n                {\\n                    'exchange': exchange,\\n                    'amount': -self.divide_quote/high_price*1.1,\\n                    'price': -1,\\n                    'type': 'MARKET',\\n                    'pair': pair,\\n                    'margin': True,\\n                }\\n            ]\\n\\n        # Buy to cover\\n        elif signal == -2:\\n            amount = -available_base_amount\\n            self['is_shorting'] = 'true'\\n            self.divide_quote = 0\\n            CA.log('Buy to cover ' + str(base))\\n            return [\\n                {\\n                    'exchange': exchange,\\n                    'amount': -available_base_amount,\\n                    'price': -1,\\n                    'type': 'MARKET',\\n                    'pair': pair,\\n                    'margin': True,\\n                }\\n            ]\\n\\n        # place buy order\\n        elif signal == 1:\\n            self['is_shorting'] = 'false'\\n            CA.log('Buy ' + base)\\n            self.last_type = 'buy'\\n            CA.buy(exchange, pair, self.divide_quote/high_price*1.1, CA.OrderType.MARKET)\\n            \\n        # place sell order\\n        elif signal == 2:\\n            self['is_shorting'] = 'false'\\n            self.divide_quote = 0\\n            CA.log('Sell ' + base)\\n            self.last_type = 'sell'\\n            CA.sell(exchange, pair, available_base_amount, CA.OrderType.MARKET)\\n\\n        return\"))"
      ]
     },
     "execution_count": 37,
     "metadata": {},
     "output_type": "execute_result"
    }
   ],
   "source": [
    "result = retriever.invoke(\"I want to create a strategy where I buy Bitcoin if its RSI drops below 30 and sell if it goes above 70.\")\n",
    "result"
   ]
  },
  {
   "cell_type": "markdown",
   "metadata": {},
   "source": [
    "In this 3rd attempt with ```chunk_size = 3000```, the code generated by the LLM is much similar to the code template than previous iterations. It is particularly interesting to see the second RSI chunk has weaker similarity score than the Bollinger_bands and Gap chunks."
   ]
  },
  {
   "cell_type": "markdown",
   "metadata": {},
   "source": [
    "## Text Splitter 4\n",
    "- Chunk_size = 3000\n",
    "- Chunk_overlap = 500\n",
    "\n",
    "In this iteration we want to see the effects of Chunk_overlap on the LLM output generation"
   ]
  },
  {
   "cell_type": "code",
   "execution_count": 38,
   "metadata": {},
   "outputs": [],
   "source": [
    "# Reseting Chroma vectorstore collection\n",
    "vectorstore.reset_collection()"
   ]
  },
  {
   "cell_type": "code",
   "execution_count": 39,
   "metadata": {},
   "outputs": [],
   "source": [
    "text_splitter = RecursiveCharacterTextSplitter.from_language(\n",
    "    language=Language.PYTHON, \n",
    "    chunk_size=3000, \n",
    "    chunk_overlap=500,\n",
    "    length_function=len,\n",
    "    add_start_index=True\n",
    ")\n",
    "text_chunks = text_splitter.split_documents(documents)"
   ]
  },
  {
   "cell_type": "code",
   "execution_count": 40,
   "metadata": {},
   "outputs": [
    {
     "name": "stdout",
     "output_type": "stream",
     "text": [
      "{'source': 'RSI-en.py', 'start_index': 0}\n",
      "{'source': 'RSI-en.py', 'start_index': 2626}\n"
     ]
    }
   ],
   "source": [
    "# View the chunks that has the source of 'RSI-en.py'\n",
    "rsi_chunks = [chunk for chunk in text_chunks if chunk.metadata['source'] == 'RSI-en.py']\n",
    "for chunk in rsi_chunks:\n",
    "    print(chunk.metadata)"
   ]
  },
  {
   "cell_type": "code",
   "execution_count": 41,
   "metadata": {},
   "outputs": [],
   "source": [
    "vectorstore = Chroma.from_documents(documents=text_chunks, embedding=OpenAIEmbeddings())\n",
    "retriever = vectorstore.as_retriever()"
   ]
  },
  {
   "cell_type": "code",
   "execution_count": 42,
   "metadata": {},
   "outputs": [],
   "source": [
    "system_prompt = (\n",
    "    \"\"\"\n",
    "    You are a coding assistant with expertise in Crypto Arsenal's documentation.Here is a set of Crypto Arsenal's documentation retrieved to answer the question: \\n -------- \\n {context} \\n -------- \\n Ensure any code you provide can be executed with all the required imports and variables defined. If you do not know the answer or require further clarification, just say that you do not know.\n",
    "    \"\"\"\n",
    ")\n",
    "\n",
    "prompt = ChatPromptTemplate.from_messages(\n",
    "    [\n",
    "        (\"system\", system_prompt),\n",
    "        (\"human\", \"{input}\"),\n",
    "    ]\n",
    ")\n",
    "\n",
    "question_answer_chain = create_stuff_documents_chain(llm, prompt)\n",
    "rag_chain = create_retrieval_chain(retriever, question_answer_chain)"
   ]
  },
  {
   "cell_type": "code",
   "execution_count": 43,
   "metadata": {},
   "outputs": [
    {
     "name": "stdout",
     "output_type": "stream",
     "text": [
      "To create a strategy where you buy Bitcoin if its Relative Strength Index (RSI) drops below 30 and sell if it goes above 70, you can modify the provided Python code to include the RSI conditions for buying and selling. Here's a modified version of the `trade` method in the `Strategy` class that implements this strategy:\n",
      "\n",
      "```python\n",
      "import numpy as np\n",
      "import talib\n",
      "\n",
      "class Strategy(StrategyBase):\n",
      "    def __init__(self):\n",
      "        # strategy property\n",
      "        self.subscribed_books = {}\n",
      "        self.period = 30 * 60\n",
      "        self.options = {}\n",
      "\n",
      "        self.last_type = 'sell'\n",
      "        self.divide_quote = 0\n",
      "        self.proportion = 0.2\n",
      "        self.rsi_lower_bound = 30\n",
      "        self.rsi_upper_bound = 70\n",
      "\n",
      "    def on_order_state_change(self, order):\n",
      "        pass\n",
      "\n",
      "    # called every self.period\n",
      "    def trade(self, candles):\n",
      "        exchange, pair, base, quote = CA.get_exchange_pair()\n",
      "\n",
      "        close_price_history = [candle['close'] for candle in candles[exchange][pair]]\n",
      "\n",
      "        # convert to chronological order for talib\n",
      "        close_price_history.reverse()\n",
      "\n",
      "        # convert np.array\n",
      "        close_price_history = np.array(close_price_history)\n",
      "\n",
      "        close_price = close_price_history[-1]\n",
      "\n",
      "        rsi = talib.RSI(close_price_history, timeperiod=14)\n",
      "\n",
      "        if len(close_price_history) < 15:\n",
      "            return []\n",
      "\n",
      "        # current RSI\n",
      "        curr_rsi = rsi[-1]\n",
      "\n",
      "        # get available balance\n",
      "        base_balance = CA.get_balance(exchange, base)\n",
      "        quote_balance = CA.get_balance(exchange, quote)\n",
      "        available_quote_amount = quote_balance.available\n",
      "\n",
      "        if self.divide_quote == 0:\n",
      "            self.divide_quote = np.round(available_quote_amount * self.proportion, 5)\n",
      "\n",
      "        signal = 0\n",
      "\n",
      "        # Buy if RSI drops below 30\n",
      "        if curr_rsi < self.rsi_lower_bound:\n",
      "            signal = 1\n",
      "\n",
      "        # Sell if RSI goes above 70\n",
      "        if curr_rsi > self.rsi_upper_bound:\n",
      "            signal = -1\n",
      "\n",
      "        # place buy order\n",
      "        if signal == 1:\n",
      "            CA.log('Buy ' + base)\n",
      "            self.last_type = 'buy'\n",
      "            CA.buy(exchange, pair, self.divide_quote / close_price * 1.1, CA.OrderType.MARKET)\n",
      "\n",
      "        # place sell order\n",
      "        if signal == -1:\n",
      "            CA.log('Sell ' + base)\n",
      "            self.last_type = 'sell'\n",
      "            CA.sell(exchange, pair, base_balance.available, CA.OrderType.MARKET)\n",
      "\n",
      "        return\n",
      "\n",
      "# Instantiate the strategy and run it\n",
      "strategy = Strategy()\n",
      "# Pass the necessary candle data to the strategy\n",
      "strategy.trade(candles_data)\n",
      "```\n",
      "\n",
      "Please note that you need to replace `candles_data` with the actual candle data needed for the `trade` method to run. This modified code should help you buy Bitcoin when its RSI drops below 30 and sell when it goes above 70.\n"
     ]
    }
   ],
   "source": [
    "response = rag_chain.invoke({\"input\": \"I want to create a strategy where I buy Bitcoin if its RSI drops below 30 and sell if it goes above 70.\"})\n",
    "print(response[\"answer\"])"
   ]
  },
  {
   "cell_type": "code",
   "execution_count": 44,
   "metadata": {},
   "outputs": [
    {
     "name": "stdout",
     "output_type": "stream",
     "text": [
      "Source: RSI-en.py, Start_index: 0\n",
      "Source: RSI-en.py, Start_index: 2626\n",
      "Source: Bollinger_Bands-en.py, Start_index: 0\n",
      "Source: DMI-en.py, Start_index: 0\n"
     ]
    }
   ],
   "source": [
    "for document in response[\"context\"]:\n",
    "    print(f\"Source: {document.metadata['source']}, Start_index: {document.metadata['start_index']}\")\n",
    "    #print(document.page_content)\n",
    "    #print('#############################################################')"
   ]
  },
  {
   "cell_type": "code",
   "execution_count": 45,
   "metadata": {},
   "outputs": [],
   "source": [
    "from typing import List\n",
    "\n",
    "from langchain_core.documents import Document\n",
    "from langchain_core.runnables import chain\n",
    "\n",
    "@chain\n",
    "def retriever(query: str) -> List[Document]:\n",
    "    docs, scores = zip(*vectorstore.similarity_search_with_score(query))\n",
    "    for doc, score in zip(docs, scores):\n",
    "        doc.metadata[\"score\"] = score\n",
    "\n",
    "    return docs"
   ]
  },
  {
   "cell_type": "code",
   "execution_count": 46,
   "metadata": {},
   "outputs": [
    {
     "data": {
      "text/plain": [
       "(Document(metadata={'source': 'RSI-en.py', 'start_index': 0, 'score': 0.4575255811214447}, page_content=\"class Strategy(StrategyBase):\\n    def __init__(self):\\n        # strategy property\\n        self.subscribed_books = {}\\n        self.period = 30 * 60\\n        self.options = {}\\n\\n        self.last_type = 'sell'\\n        self.short_period = 5\\n        self.long_period = 10\\n        self.divide_quote = 0\\n        self.proportion = 0.2\\n\\n        self.rsi_upper_band = 80\\n        self.rsi_lower_band = 20\\n\\n\\n    def on_order_state_change(self,  order):\\n        pass\\n\\n    # called every self.period\\n    def trade(self, candles):\\n        exchange, pair, base, quote = CA.get_exchange_pair()\\n        \\n        close_price_history = [candle['close'] for candle in candles[exchange][pair]]\\n        high_price_history = [candle['high'] for candle in candles[exchange][pair]]\\n        low_price_history = [candle['low'] for candle in candles[exchange][pair]]\\n\\n        # convert to chronological order for talib\\n        close_price_history.reverse()\\n        high_price_history.reverse()\\n        low_price_history.reverse()\\n\\n        # convert np.array\\n        close_price_history = np.array(close_price_history)\\n        high_price_history = np.array(high_price_history)\\n        low_price_history = np.array(low_price_history)\\n\\n        close_price = close_price_history[-1]\\n        high_price = high_price_history[-1]\\n\\n        rsi_short = talib.RSI(close_price_history, self.short_period)\\n        rsi_long = talib.RSI(close_price_history, self.long_period)\\n        \\n        if len(close_price_history) < self.long_period + 1:\\n            return []\\n        \\n        # current rsi, short and long period respectively\\n        curr_rsi_short = rsi_short[-1]\\n        curr_rsi_long = rsi_long[-1]\\n\\n        # previous time stamp rsi\\n        prev_rsi_short = rsi_short[-2]\\n        prev_rsi_long = rsi_long[-2]\\n\\n        # get available balance\\n        base_balance = CA.get_balance(exchange, base)\\n        quote_balance = CA.get_balance(exchange, quote)\\n        available_base_amount = base_balance.available\\n        available_quote_amount = quote_balance.available\\n\\n        if self.divide_quote == 0:\\n            self.divide_quote = np.round(available_quote_amount* self.proportion, 5)\\n\\n        # initialize signal to be 0\\n        signal = 0\\n        if available_base_amount< self.divide_quote/high_price and available_base_amount > -self.divide_quote/high_price:\\n            # open long position\\n            if curr_rsi_short > curr_rsi_long and prev_rsi_short < prev_rsi_long:\\n                signal = 1\\n            # open short position\\n            if curr_rsi_short < curr_rsi_long and prev_rsi_short > prev_rsi_long:\\n                signal = -1\\n\\n        # holding long position \\n        elif available_base_amount > self.divide_quote/high_price:\\n            if curr_rsi_short < curr_rsi_long and prev_rsi_short > prev_rsi_long:\\n                signal = 2\\n            if curr_rsi_short >  self.rsi_upper_band:\\n                signal = 2\"),\n",
       " Document(metadata={'source': 'RSI-en.py', 'start_index': 2626, 'score': 0.47016391158103943}, page_content=\"# holding long position \\n        elif available_base_amount > self.divide_quote/high_price:\\n            if curr_rsi_short < curr_rsi_long and prev_rsi_short > prev_rsi_long:\\n                signal = 2\\n            if curr_rsi_short >  self.rsi_upper_band:\\n                signal = 2\\n\\n        # holding short position\\n        elif available_base_amount < -self.divide_quote/high_price:\\n            if curr_rsi_short > curr_rsi_long and prev_rsi_short < prev_rsi_long:\\n                signal = -2\\n            if curr_rsi_short < self.rsi_lower_band:\\n                signal = -2\\n            \\n        # Sell short\\n        if signal == -1:\\n            self['is_shorting'] = 'true'\\n            CA.log('Sell short ' + str(base))\\n            return [\\n                {\\n                    'exchange': exchange,\\n                    'amount': -self.divide_quote/high_price*1.1,\\n                    'price': -1,\\n                    'type': 'MARKET',\\n                    'pair': pair,\\n                    'margin': True,\\n                }\\n            ]\\n\\n        # Buy to cover\\n        elif signal == -2:\\n            amount = -available_base_amount\\n            self['is_shorting'] = 'true'\\n            self.divide_quote = 0\\n            CA.log('Buy to cover ' + str(base))\\n            return [\\n                {\\n                    'exchange': exchange,\\n                    'amount': -available_base_amount,\\n                    'price': -1,\\n                    'type': 'MARKET',\\n                    'pair': pair,\\n                    'margin': True,\\n                }\\n            ]\\n\\n        # place buy order\\n        elif signal == 1:\\n            self['is_shorting'] = 'false'\\n            CA.log('Buy ' + base)\\n            self.last_type = 'buy'\\n            CA.buy(exchange, pair, self.divide_quote/high_price*1.1, CA.OrderType.MARKET)\\n            \\n        # place sell order\\n        elif signal == 2:\\n            self['is_shorting'] = 'false'\\n            self.divide_quote = 0\\n            CA.log('Sell ' + base)\\n            self.last_type = 'sell'\\n            CA.sell(exchange, pair, available_base_amount, CA.OrderType.MARKET)\\n\\n        return\"),\n",
       " Document(metadata={'source': 'Bollinger_Bands-en.py', 'start_index': 0, 'score': 0.47446268796920776}, page_content=\"class Strategy(StrategyBase):\\n\\n    def __init__(self):\\n        # strategy property\\n        self.subscribed_books = {}\\n        self.period = 30 * 60\\n        self.options = {}\\n\\n        self.last_type = 'sell'\\n        self.ma_period = 20\\n        self.divide_quote = 0\\n        self.proportion = 0.2\\n\\n\\n    def on_order_state_change(self,  order):\\n        pass\\n\\n    # called every self.period\\n    def trade(self, candles):\\n        exchange, pair, base, quote = CA.get_exchange_pair()\\n        \\n        close_price_history = [candle['close'] for candle in candles[exchange][pair]]\\n        high_price_history = [candle['high'] for candle in candles[exchange][pair]]\\n        low_price_history = [candle['low'] for candle in candles[exchange][pair]]\\n\\n        # convert to chronological order for talib\\n        close_price_history.reverse()\\n        high_price_history.reverse()\\n        low_price_history.reverse()\\n\\n        # convert np.array\\n        close_price_history = np.array(close_price_history)\\n        high_price_history = np.array(high_price_history)\\n        low_price_history = np.array(low_price_history)\\n\\n        close_price = close_price_history[-1]\\n        high_price = high_price_history[-1]\\n\\n        upper, middle, lower = talib.BBANDS(close_price_history)\\n        ma = talib.SMA(close_price_history, self.ma_period)\\n\\n        if len(ma) < 2 or len(upper) < 2:\\n            return []\\n\\n        # moving average\\n        ma_curr = ma[-1]\\n        ma_prev = ma[-2]\\n\\n        # bollinger band upper band\\n        upper_curr = upper[-1]\\n        upper_prev = upper[-2]\\n\\n        # bollinger band lower band\\n        lower_curr = lower[-1]\\n        lower_prev = lower[-2]\\n\\n        # get available balance\\n        base_balance = CA.get_balance(exchange, base)\\n        quote_balance = CA.get_balance(exchange, quote)\\n        available_base_amount = base_balance.available\\n        available_quote_amount = quote_balance.available\\n\\n        if self.divide_quote == 0:\\n            self.divide_quote = np.round(available_quote_amount* self.proportion, 5)\\n\\n        # buy if signal is 1, sell if it's 2, sell short if it's -1, buy to cover if it's -2\\n        signal = 0\\n        amount = self.divide_quote/high_price\\n\\n        # up trend\\n        if ma_curr > ma_prev and upper_curr > upper_prev and lower_curr > lower_prev:\\n            \\n            # open long position\\n            if available_base_amount< amount and available_base_amount > -amount:\\n                signal = 1\"),\n",
       " Document(metadata={'source': 'DMI-en.py', 'start_index': 0, 'score': 0.4784977436065674}, page_content=\"class Strategy(StrategyBase):\\n        \\n    def __init__(self):\\n        # strategy attributes\\n        self.subscribed_books = {}\\n        # 30 min\\n        self.period = 30 * 60\\n        self.options = {}\\n\\n        self.last_type = 'sell'\\n        self.time_period = 14\\n        self.adx_bound = 25\\n        self.proportion = 0.9\\n\\n    def on_order_state_change(self,  order):\\n        pass\\n\\n    # called every self.period\\n    def trade(self, candles):\\n        exchange, pair, base, quote = CA.get_exchange_pair()\\n        \\n        close_price_history = [candle['close'] for candle in candles[exchange][pair]]\\n        high_price_history = [candle['high'] for candle in candles[exchange][pair]]\\n        low_price_history = [candle['low'] for candle in candles[exchange][pair]]\\n\\n        # convert to chronological order for talib\\n        close_price_history.reverse()\\n        high_price_history.reverse()\\n        low_price_history.reverse()\\n\\n        # convert to np.array\\n        close_price_history = np.array(close_price_history)\\n        high_price_history = np.array(high_price_history)\\n        low_price_history = np.array(low_price_history)\\n        \\n        # Plus Directional Indicator\\n        pdi = talib.PLUS_DI(high_price_history, low_price_history, close_price_history, timeperiod=self.time_period)\\n        # Minus Directional Indicator\\n        mdi = talib.MINUS_DI(high_price_history, low_price_history, close_price_history, timeperiod=self.time_period)\\n        # Average Directional Movement Index\\n        adx = talib.ADX(high_price_history, low_price_history, close_price_history, timeperiod=self.time_period)\\n\\n        if len(pdi) < 2:\\n            return\\n\\n        # current indicators\\n        curr_pdi = pdi[-1]\\n        curr_mdi =mdi[-1]\\n        curr_adx = adx[-1]\\n\\n        # previous ones\\n        prev_pdi = pdi[-2]\\n        prev_mdi = mdi[-2]\\n\\n        # buy, signal = 1, sell, signal = -1\\n        signal = 0\\n\\n        if curr_adx > self.adx_bound:\\n            if curr_pdi > curr_mdi and prev_pdi < prev_mdi:\\n                signal = 1\\n\\n            if curr_pdi < curr_mdi and prev_pdi > prev_mdi:\\n                signal = -1\\n\\n        # get available balance\\n        base_balance = CA.get_balance(exchange, base)\\n        quote_balance = CA.get_balance(exchange, quote)\\n        available_base_amount = base_balance.available\\n        available_quote_amount = quote_balance.available\\n\\n        # place buy order\\n        if self.last_type == 'sell' and signal == 1:\\n            amount = np.around((available_quote_amount /  close_price_history[-1]) * self.proportion, 3)\\n            if available_quote_amount >= amount * close_price_history[-1]:\\n                CA.log('Buy ' + base)\\n                self.last_type = 'buy'\\n                CA.buy(exchange, pair, amount, CA.OrderType.MARKET)\"))"
      ]
     },
     "execution_count": 46,
     "metadata": {},
     "output_type": "execute_result"
    }
   ],
   "source": [
    "result = retriever.invoke(\"I want to create a strategy where I buy Bitcoin if its RSI drops below 30 and sell if it goes above 70.\")\n",
    "result"
   ]
  },
  {
   "cell_type": "markdown",
   "metadata": {},
   "source": [
    "From this iteration, we can see that by passing a non-zero value to ```chunk_overlap```, there is an improvement in retriever results. Both RSI chunks are being identified correctly as the most relevant context to the query."
   ]
  },
  {
   "cell_type": "markdown",
   "metadata": {},
   "source": [
    "## Text Splitter 5\n",
    "- Chunk_size = 2000\n",
    "- Chunk_overlap = 500"
   ]
  },
  {
   "cell_type": "code",
   "execution_count": 47,
   "metadata": {},
   "outputs": [],
   "source": [
    "# Reseting Chroma vectorstore collection\n",
    "vectorstore.reset_collection()"
   ]
  },
  {
   "cell_type": "code",
   "execution_count": 48,
   "metadata": {},
   "outputs": [],
   "source": [
    "text_splitter = RecursiveCharacterTextSplitter.from_language(\n",
    "    language=Language.PYTHON, \n",
    "    chunk_size=2000, \n",
    "    chunk_overlap=500,\n",
    "    length_function=len,\n",
    "    add_start_index=True\n",
    ")\n",
    "text_chunks = text_splitter.split_documents(documents)"
   ]
  },
  {
   "cell_type": "code",
   "execution_count": 49,
   "metadata": {},
   "outputs": [
    {
     "name": "stdout",
     "output_type": "stream",
     "text": [
      "{'source': 'RSI-en.py', 'start_index': 0}\n",
      "{'source': 'RSI-en.py', 'start_index': 1302}\n",
      "{'source': 'RSI-en.py', 'start_index': 2626}\n",
      "{'source': 'RSI-en.py', 'start_index': 4201}\n"
     ]
    }
   ],
   "source": [
    "# View the chunks that has the source of 'RSI-en.py'\n",
    "rsi_chunks = [chunk for chunk in text_chunks if chunk.metadata['source'] == 'RSI-en.py']\n",
    "for chunk in rsi_chunks:\n",
    "    print(chunk.metadata)"
   ]
  },
  {
   "cell_type": "code",
   "execution_count": 50,
   "metadata": {},
   "outputs": [],
   "source": [
    "vectorstore = Chroma.from_documents(documents=text_chunks, embedding=OpenAIEmbeddings())\n",
    "retriever = vectorstore.as_retriever()"
   ]
  },
  {
   "cell_type": "code",
   "execution_count": 51,
   "metadata": {},
   "outputs": [],
   "source": [
    "system_prompt = (\n",
    "    \"\"\"\n",
    "    You are a coding assistant with expertise in Crypto Arsenal's documentation.Here is a set of Crypto Arsenal's documentation retrieved to answer the question: \\n -------- \\n {context} \\n -------- \\n Ensure any code you provide can be executed with all the required imports and variables defined. If you do not know the answer or require further clarification, just say that you do not know.\n",
    "    \"\"\"\n",
    ")\n",
    "\n",
    "prompt = ChatPromptTemplate.from_messages(\n",
    "    [\n",
    "        (\"system\", system_prompt),\n",
    "        (\"human\", \"{input}\"),\n",
    "    ]\n",
    ")\n",
    "\n",
    "question_answer_chain = create_stuff_documents_chain(llm, prompt)\n",
    "rag_chain = create_retrieval_chain(retriever, question_answer_chain)"
   ]
  },
  {
   "cell_type": "code",
   "execution_count": 52,
   "metadata": {},
   "outputs": [
    {
     "name": "stdout",
     "output_type": "stream",
     "text": [
      "To create a strategy where you buy Bitcoin if its Relative Strength Index (RSI) drops below 30 and sell if it goes above 70, you can modify the existing strategy code provided by incorporating the RSI thresholds of 30 and 70. Below is the modified code snippet for this specific strategy:\n",
      "\n",
      "```python\n",
      "class RsiStrategy(StrategyBase):\n",
      "    def __init__(self):\n",
      "        # strategy property\n",
      "        self.short_period = 14\n",
      "        self.long_period = 28\n",
      "        self.rsi_lower_band = 30\n",
      "        self.rsi_upper_band = 70\n",
      "\n",
      "    def trade(self, candles):\n",
      "        exchange, pair, base, quote = CA.get_exchange_pair()\n",
      "\n",
      "        close_price_history = [candle['close'] for candle in candles[exchange][pair]]\n",
      "        close_price_history = np.array(close_price_history)\n",
      "\n",
      "        rsi_short = talib.RSI(close_price_history, self.short_period)\n",
      "        rsi_long = talib.RSI(close_price_history, self.long_period)\n",
      "\n",
      "        curr_rsi_short = rsi_short[-1]\n",
      "        curr_rsi_long = rsi_long[-1]\n",
      "\n",
      "        if curr_rsi_short < self.rsi_lower_band and curr_rsi_long < self.rsi_lower_band:\n",
      "            # Buy Bitcoin\n",
      "            CA.log('Buy Bitcoin when RSI drops below 30')\n",
      "            return [\n",
      "                {\n",
      "                    'exchange': exchange,\n",
      "                    'amount': 1.0,  # Specify the amount you want to buy\n",
      "                    'price': -1,\n",
      "                    'type': 'MARKET',\n",
      "                    'pair': pair,\n",
      "                    'margin': True,\n",
      "                }\n",
      "            ]\n",
      "\n",
      "        elif curr_rsi_short > self.rsi_upper_band and curr_rsi_long > self.rsi_upper_band:\n",
      "            # Sell Bitcoin\n",
      "            CA.log('Sell Bitcoin when RSI goes above 70')\n",
      "            return [\n",
      "                {\n",
      "                    'exchange': exchange,\n",
      "                    'amount': -1.0,  # Specify the amount you want to sell\n",
      "                    'price': -1,\n",
      "                    'type': 'MARKET',\n",
      "                    'pair': pair,\n",
      "                    'margin': True,\n",
      "                }\n",
      "            ]\n",
      "\n",
      "        return []\n",
      "```\n",
      "\n",
      "In this modified code snippet, the strategy checks if both the short and long period RSIs are below 30 to trigger a buy signal and above 70 to trigger a sell signal. Adjust the amount parameter in the trade function to specify the amount of Bitcoin you want to buy or sell.\n"
     ]
    }
   ],
   "source": [
    "response = rag_chain.invoke({\"input\": \"I want to create a strategy where I buy Bitcoin if its RSI drops below 30 and sell if it goes above 70.\"})\n",
    "print(response[\"answer\"])"
   ]
  },
  {
   "cell_type": "code",
   "execution_count": 53,
   "metadata": {},
   "outputs": [
    {
     "name": "stdout",
     "output_type": "stream",
     "text": [
      "Source: RSI-en.py, Start_index: 2626\n",
      "Source: RSI-en.py, Start_index: 1302\n",
      "Source: RSI-en.py, Start_index: 0\n",
      "Source: Bollinger_Bands-en.py, Start_index: 2045\n"
     ]
    }
   ],
   "source": [
    "for document in response[\"context\"]:\n",
    "    print(f\"Source: {document.metadata['source']}, Start_index: {document.metadata['start_index']}\")\n",
    "    #print(document.page_content)\n",
    "    #print('#############################################################')"
   ]
  },
  {
   "cell_type": "code",
   "execution_count": 54,
   "metadata": {},
   "outputs": [],
   "source": [
    "from typing import List\n",
    "\n",
    "from langchain_core.documents import Document\n",
    "from langchain_core.runnables import chain\n",
    "\n",
    "@chain\n",
    "def retriever(query: str) -> List[Document]:\n",
    "    docs, scores = zip(*vectorstore.similarity_search_with_score(query))\n",
    "    for doc, score in zip(docs, scores):\n",
    "        doc.metadata[\"score\"] = score\n",
    "\n",
    "    return docs"
   ]
  },
  {
   "cell_type": "code",
   "execution_count": 55,
   "metadata": {},
   "outputs": [
    {
     "data": {
      "text/plain": [
       "(Document(metadata={'source': 'RSI-en.py', 'start_index': 2626, 'score': 0.4426209330558777}, page_content=\"# holding long position \\n        elif available_base_amount > self.divide_quote/high_price:\\n            if curr_rsi_short < curr_rsi_long and prev_rsi_short > prev_rsi_long:\\n                signal = 2\\n            if curr_rsi_short >  self.rsi_upper_band:\\n                signal = 2\\n\\n        # holding short position\\n        elif available_base_amount < -self.divide_quote/high_price:\\n            if curr_rsi_short > curr_rsi_long and prev_rsi_short < prev_rsi_long:\\n                signal = -2\\n            if curr_rsi_short < self.rsi_lower_band:\\n                signal = -2\\n            \\n        # Sell short\\n        if signal == -1:\\n            self['is_shorting'] = 'true'\\n            CA.log('Sell short ' + str(base))\\n            return [\\n                {\\n                    'exchange': exchange,\\n                    'amount': -self.divide_quote/high_price*1.1,\\n                    'price': -1,\\n                    'type': 'MARKET',\\n                    'pair': pair,\\n                    'margin': True,\\n                }\\n            ]\\n\\n        # Buy to cover\\n        elif signal == -2:\\n            amount = -available_base_amount\\n            self['is_shorting'] = 'true'\\n            self.divide_quote = 0\\n            CA.log('Buy to cover ' + str(base))\\n            return [\\n                {\\n                    'exchange': exchange,\\n                    'amount': -available_base_amount,\\n                    'price': -1,\\n                    'type': 'MARKET',\\n                    'pair': pair,\\n                    'margin': True,\\n                }\\n            ]\"),\n",
       " Document(metadata={'source': 'RSI-en.py', 'start_index': 1302, 'score': 0.46021389961242676}, page_content='rsi_short = talib.RSI(close_price_history, self.short_period)\\n        rsi_long = talib.RSI(close_price_history, self.long_period)\\n        \\n        if len(close_price_history) < self.long_period + 1:\\n            return []\\n        \\n        # current rsi, short and long period respectively\\n        curr_rsi_short = rsi_short[-1]\\n        curr_rsi_long = rsi_long[-1]\\n\\n        # previous time stamp rsi\\n        prev_rsi_short = rsi_short[-2]\\n        prev_rsi_long = rsi_long[-2]\\n\\n        # get available balance\\n        base_balance = CA.get_balance(exchange, base)\\n        quote_balance = CA.get_balance(exchange, quote)\\n        available_base_amount = base_balance.available\\n        available_quote_amount = quote_balance.available\\n\\n        if self.divide_quote == 0:\\n            self.divide_quote = np.round(available_quote_amount* self.proportion, 5)\\n\\n        # initialize signal to be 0\\n        signal = 0\\n        if available_base_amount< self.divide_quote/high_price and available_base_amount > -self.divide_quote/high_price:\\n            # open long position\\n            if curr_rsi_short > curr_rsi_long and prev_rsi_short < prev_rsi_long:\\n                signal = 1\\n            # open short position\\n            if curr_rsi_short < curr_rsi_long and prev_rsi_short > prev_rsi_long:\\n                signal = -1\\n\\n        # holding long position \\n        elif available_base_amount > self.divide_quote/high_price:\\n            if curr_rsi_short < curr_rsi_long and prev_rsi_short > prev_rsi_long:\\n                signal = 2\\n            if curr_rsi_short >  self.rsi_upper_band:\\n                signal = 2'),\n",
       " Document(metadata={'source': 'RSI-en.py', 'start_index': 0, 'score': 0.46318432688713074}, page_content=\"class Strategy(StrategyBase):\\n    def __init__(self):\\n        # strategy property\\n        self.subscribed_books = {}\\n        self.period = 30 * 60\\n        self.options = {}\\n\\n        self.last_type = 'sell'\\n        self.short_period = 5\\n        self.long_period = 10\\n        self.divide_quote = 0\\n        self.proportion = 0.2\\n\\n        self.rsi_upper_band = 80\\n        self.rsi_lower_band = 20\\n\\n\\n    def on_order_state_change(self,  order):\\n        pass\\n\\n    # called every self.period\\n    def trade(self, candles):\\n        exchange, pair, base, quote = CA.get_exchange_pair()\\n        \\n        close_price_history = [candle['close'] for candle in candles[exchange][pair]]\\n        high_price_history = [candle['high'] for candle in candles[exchange][pair]]\\n        low_price_history = [candle['low'] for candle in candles[exchange][pair]]\\n\\n        # convert to chronological order for talib\\n        close_price_history.reverse()\\n        high_price_history.reverse()\\n        low_price_history.reverse()\\n\\n        # convert np.array\\n        close_price_history = np.array(close_price_history)\\n        high_price_history = np.array(high_price_history)\\n        low_price_history = np.array(low_price_history)\\n\\n        close_price = close_price_history[-1]\\n        high_price = high_price_history[-1]\\n\\n        rsi_short = talib.RSI(close_price_history, self.short_period)\\n        rsi_long = talib.RSI(close_price_history, self.long_period)\\n        \\n        if len(close_price_history) < self.long_period + 1:\\n            return []\\n        \\n        # current rsi, short and long period respectively\\n        curr_rsi_short = rsi_short[-1]\\n        curr_rsi_long = rsi_long[-1]\\n\\n        # previous time stamp rsi\\n        prev_rsi_short = rsi_short[-2]\\n        prev_rsi_long = rsi_long[-2]\"),\n",
       " Document(metadata={'source': 'Bollinger_Bands-en.py', 'start_index': 2045, 'score': 0.47786572575569153}, page_content=\"# buy if signal is 1, sell if it's 2, sell short if it's -1, buy to cover if it's -2\\n        signal = 0\\n        amount = self.divide_quote/high_price\\n\\n        # up trend\\n        if ma_curr > ma_prev and upper_curr > upper_prev and lower_curr > lower_prev:\\n            \\n            # open long position\\n            if available_base_amount< amount and available_base_amount > -amount:\\n                signal = 1\\n\\n        # exceeds upper bound -- close position\\n        elif high_price_history[-1] > upper_curr:\\n            if available_base_amount > amount:\\n                signal = 2\\n                amount = available_base_amount\\n        \\n        # down trend\\n        elif ma_curr < ma_prev and upper_curr < upper_prev and lower_curr < lower_prev:\\n            \\n            # open short position\\n            if available_base_amount < amount and available_base_amount > -amount:\\n                signal = -1\\n            \\n            # if holding long position, sell one unit\\n            elif available_base_amount > amount:\\n                signal = 2\\n                if available_base_amount < amount:\\n                    amount = available_base_amount\\n        \\n        # drops below lower bound -- close position\\n        elif low_price_history[-1] < lower_curr:\\n            if available_base_amount < -amount:\\n                signal = -2\\n                amount = -available_base_amount\\n        \\n        # Sell short\\n        if signal == -1:\\n            self['is_shorting'] = 'true'\\n            amount = -amount * 1.1\\n            self.divide_quote = 0\\n            CA.log('Sell short ' + str(base))\\n            return [\\n                {\\n                    'exchange': exchange,\\n                    'amount': amount,\\n                    'price': -1,\\n                    'type': 'MARKET',\\n                    'pair': pair,\\n                    'margin': True,\\n                }\\n            ]\"))"
      ]
     },
     "execution_count": 55,
     "metadata": {},
     "output_type": "execute_result"
    }
   ],
   "source": [
    "result = retriever.invoke(\"I want to create a strategy where I buy Bitcoin if its RSI drops below 30 and sell if it goes above 70.\")\n",
    "result"
   ]
  },
  {
   "cell_type": "markdown",
   "metadata": {},
   "source": []
  },
  {
   "cell_type": "markdown",
   "metadata": {},
   "source": [
    "## (Tool) Check duplicate documents in vectorstore"
   ]
  },
  {
   "cell_type": "code",
   "execution_count": null,
   "metadata": {},
   "outputs": [],
   "source": [
    "# Assuming `vectorstore` is your Chroma vectorstore instance\n",
    "all_documents = vectorstore.get(include=[\"metadatas\"])\n",
    "\n",
    "print(all_documents['metadatas'])"
   ]
  },
  {
   "cell_type": "code",
   "execution_count": null,
   "metadata": {},
   "outputs": [],
   "source": [
    "meta = all_documents['metadatas']\n",
    "check = [frozenset(d.items()) for d in meta]\n",
    "\n",
    "from collections import Counter\n",
    "counter = Counter(check)\n",
    "\n",
    "duplicates = [dict(fset) for fset, count in counter.items() if count > 1]\n",
    "\n",
    "print(\"Duplicate dictionaries:\", duplicates)"
   ]
  }
 ],
 "metadata": {
  "kernelspec": {
   "display_name": "Python 3",
   "language": "python",
   "name": "python3"
  },
  "language_info": {
   "codemirror_mode": {
    "name": "ipython",
    "version": 3
   },
   "file_extension": ".py",
   "mimetype": "text/x-python",
   "name": "python",
   "nbconvert_exporter": "python",
   "pygments_lexer": "ipython3",
   "version": "3.11.3"
  }
 },
 "nbformat": 4,
 "nbformat_minor": 2
}
