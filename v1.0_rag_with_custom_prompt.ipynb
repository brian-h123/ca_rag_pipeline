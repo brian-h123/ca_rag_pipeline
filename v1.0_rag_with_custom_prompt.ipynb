{
 "cells": [
  {
   "cell_type": "markdown",
   "metadata": {},
   "source": [
    "# V1.0 RAG with Custom Prompt\n",
    "This version focus on RAG with custom prompt.\\\n",
    "Custom prompt is designed to invoke code generation by the LLM."
   ]
  },
  {
   "cell_type": "code",
   "execution_count": 13,
   "metadata": {},
   "outputs": [
    {
     "name": "stdout",
     "output_type": "stream",
     "text": [
      "Note: you may need to restart the kernel to use updated packages.\n",
      "Note: you may need to restart the kernel to use updated packages.\n",
      "Note: you may need to restart the kernel to use updated packages.\n",
      "Note: you may need to restart the kernel to use updated packages.\n",
      "Note: you may need to restart the kernel to use updated packages.\n"
     ]
    }
   ],
   "source": [
    "%pip install --user -qU langchain\n",
    "%pip install --user -qU langchain_community\n",
    "%pip install --user -qU langchain_chroma\n",
    "%pip install --user -qU langchain-openai\n",
    "%pip install --user -qU langchainhub"
   ]
  },
  {
   "cell_type": "code",
   "execution_count": 14,
   "metadata": {},
   "outputs": [],
   "source": [
    "import os\n",
    "import getpass\n",
    "\n",
    "os.environ['OPENAI_API_KEY'] = getpass.getpass()\n",
    "\n",
    "from langchain_openai import ChatOpenAI\n",
    "llm = ChatOpenAI(model=\"gpt-3.5-turbo-0125\")"
   ]
  },
  {
   "cell_type": "code",
   "execution_count": 15,
   "metadata": {},
   "outputs": [],
   "source": [
    "from langchain import hub\n",
    "from langchain_openai import OpenAIEmbeddings\n",
    "from langchain_chroma import Chroma\n",
    "from langchain_community.document_loaders import UnstructuredMarkdownLoader\n",
    "from langchain.text_splitter import RecursiveCharacterTextSplitter\n",
    "from langchain_core.runnables import RunnablePassthrough\n",
    "from langchain_core.output_parsers import StrOutputParser"
   ]
  },
  {
   "cell_type": "code",
   "execution_count": 16,
   "metadata": {},
   "outputs": [],
   "source": [
    "folder_path = \"ca-md\"\n",
    "\n",
    "documents = []\n",
    "for filename in os.listdir(folder_path):\n",
    "    file_path = os.path.join(folder_path, filename)\n",
    "    if os.path.isfile(file_path):\n",
    "        loader = UnstructuredMarkdownLoader(file_path)\n",
    "        loaded_docs = loader.load()\n",
    "        # Add source metadata to each document\n",
    "        for doc in loaded_docs:\n",
    "            doc.metadata[\"source\"] = filename\n",
    "        documents.extend(loaded_docs)"
   ]
  },
  {
   "cell_type": "code",
   "execution_count": 17,
   "metadata": {},
   "outputs": [],
   "source": [
    "text_splitter = RecursiveCharacterTextSplitter(\n",
    "    chunk_size=1000,\n",
    "    chunk_overlap=500,\n",
    "    length_function=len,\n",
    "    add_start_index=True\n",
    ")\n",
    "text_chunks = text_splitter.split_documents(documents)"
   ]
  },
  {
   "cell_type": "code",
   "execution_count": 18,
   "metadata": {},
   "outputs": [],
   "source": [
    "vectorstore = Chroma.from_documents(documents=text_chunks, embedding=OpenAIEmbeddings())"
   ]
  },
  {
   "cell_type": "code",
   "execution_count": 19,
   "metadata": {},
   "outputs": [],
   "source": [
    "retriever = vectorstore.as_retriever()"
   ]
  },
  {
   "cell_type": "code",
   "execution_count": 20,
   "metadata": {},
   "outputs": [],
   "source": [
    "from langchain.chains import create_retrieval_chain\n",
    "from langchain.chains.combine_documents import create_stuff_documents_chain\n",
    "from langchain_core.prompts import ChatPromptTemplate"
   ]
  },
  {
   "cell_type": "markdown",
   "metadata": {},
   "source": [
    "## Prompt 1\n"
   ]
  },
  {
   "cell_type": "code",
   "execution_count": 21,
   "metadata": {},
   "outputs": [],
   "source": [
    "system_prompt = (\n",
    "    \"\"\"\n",
    "    You are a coding assistant with expertise in Crypto Arsenal's documentation.Here is a set of Crypto Arsenal's documentation retrieved to answer the question: \\n -------- \\n {context} \\n -------- \\n Ensure any code you provide can be executed with all the required imports and variables defined. If you do not know the answer or require further clarification, just say that you do not know.\n",
    "    \"\"\"\n",
    ")\n",
    "\n",
    "prompt = ChatPromptTemplate.from_messages(\n",
    "    [\n",
    "        (\"system\", system_prompt),\n",
    "        (\"human\", \"{input}\"),\n",
    "    ]\n",
    ")\n",
    "\n",
    "question_answer_chain = create_stuff_documents_chain(llm, prompt)\n",
    "rag_chain = create_retrieval_chain(retriever, question_answer_chain)"
   ]
  },
  {
   "cell_type": "code",
   "execution_count": 25,
   "metadata": {},
   "outputs": [
    {
     "name": "stdout",
     "output_type": "stream",
     "text": [
      "To create a strategy based on the Relative Strength Index (RSI) for buying Bitcoin when its RSI drops below 30 and selling when it goes above 70, you can use the following Python code snippet as a basic example:\n",
      "\n",
      "```python\n",
      "# Let's assume you have a function to calculate RSI for Bitcoin\n",
      "def calculate_rsi(data):\n",
      "    # Calculate RSI logic here\n",
      "    # This function should return the RSI value\n",
      "    return rsi_value\n",
      "\n",
      "# Assuming you have a function to buy Bitcoin\n",
      "def buy_bitcoin():\n",
      "    print(\"Buying Bitcoin\")\n",
      "\n",
      "# Assuming you have a function to sell Bitcoin\n",
      "def sell_bitcoin():\n",
      "    print(\"Selling Bitcoin\")\n",
      "\n",
      "# Let's assume you have historical RSI data for Bitcoin\n",
      "bitcoin_rsi = [35, 25, 20, 65, 75, 80, 40, 30, 35, 70]\n",
      "\n",
      "# Implementing the strategy\n",
      "for rsi in bitcoin_rsi:\n",
      "    if rsi < 30:\n",
      "        buy_bitcoin()\n",
      "    elif rsi > 70:\n",
      "        sell_bitcoin()\n",
      "```\n",
      "\n",
      "In this code snippet:\n",
      "- The `calculate_rsi` function represents the logic to calculate the RSI value for Bitcoin based on historical data.\n",
      "- The `buy_bitcoin` function simulates buying Bitcoin.\n",
      "- The `sell_bitcoin` function simulates selling Bitcoin.\n",
      "- The `bitcoin_rsi` list contains historical RSI values for Bitcoin.\n",
      "- The strategy iterates through the RSI values and buys Bitcoin if RSI is below 30 and sells if RSI is above 70.\n",
      "\n",
      "Remember to replace the placeholder functions with your actual RSI calculation, buy, and sell functions, and adapt the strategy based on your specific requirements and data.\n"
     ]
    }
   ],
   "source": [
    "response = rag_chain.invoke({\"input\": \"I want to create a strategy where I buy Bitcoin if its RSI drops below 30 and sell if it goes above 70.\"})\n",
    "print(response[\"answer\"])"
   ]
  },
  {
   "cell_type": "code",
   "execution_count": 27,
   "metadata": {},
   "outputs": [
    {
     "name": "stdout",
     "output_type": "stream",
     "text": [
      "Source: rsi.md\n",
      "Source: rsi.md\n",
      "Source: rsi.md\n",
      "Source: rsi.md\n"
     ]
    }
   ],
   "source": [
    "for document in response[\"context\"]:\n",
    "    print(f\"Source: {document.metadata['source']}\")\n",
    "    #print('#############################################################')"
   ]
  },
  {
   "cell_type": "markdown",
   "metadata": {},
   "source": [
    "LLM is able to find the correct documentation of the technical indicator (in this case RSI). \\\n",
    "However, the retriever is only able to retrieve documentation for the technical indicator and not the necessary markdown documentations for generating strategy code (hello-world.mdx)."
   ]
  },
  {
   "cell_type": "code",
   "execution_count": null,
   "metadata": {},
   "outputs": [],
   "source": []
  }
 ],
 "metadata": {
  "kernelspec": {
   "display_name": "Python 3",
   "language": "python",
   "name": "python3"
  },
  "language_info": {
   "codemirror_mode": {
    "name": "ipython",
    "version": 3
   },
   "file_extension": ".py",
   "mimetype": "text/x-python",
   "name": "python",
   "nbconvert_exporter": "python",
   "pygments_lexer": "ipython3",
   "version": "3.11.3"
  }
 },
 "nbformat": 4,
 "nbformat_minor": 2
}
