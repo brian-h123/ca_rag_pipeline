{
 "cells": [
  {
   "cell_type": "markdown",
   "metadata": {},
   "source": [
    "# V1.0 RAG with Custom Prompt\n",
    "This version focus on RAG with custom prompt.\\\n",
    "Custom prompt is designed to invoke code generation by the LLM."
   ]
  },
  {
   "cell_type": "code",
   "execution_count": 1,
   "metadata": {},
   "outputs": [
    {
     "name": "stdout",
     "output_type": "stream",
     "text": [
      "Note: you may need to restart the kernel to use updated packages.\n",
      "Note: you may need to restart the kernel to use updated packages.\n",
      "Note: you may need to restart the kernel to use updated packages.\n",
      "Note: you may need to restart the kernel to use updated packages.\n",
      "Note: you may need to restart the kernel to use updated packages.\n"
     ]
    }
   ],
   "source": [
    "%pip install --user -qU langchain\n",
    "%pip install --user -qU langchain_community\n",
    "%pip install --user -qU langchain_chroma\n",
    "%pip install --user -qU langchain-openai\n",
    "%pip install --user -qU langchainhub"
   ]
  },
  {
   "cell_type": "code",
   "execution_count": 2,
   "metadata": {},
   "outputs": [],
   "source": [
    "import os\n",
    "import getpass\n",
    "\n",
    "os.environ['OPENAI_API_KEY'] = getpass.getpass()\n",
    "\n",
    "from langchain_openai import ChatOpenAI\n",
    "llm = ChatOpenAI(model=\"gpt-3.5-turbo-0125\")"
   ]
  },
  {
   "cell_type": "code",
   "execution_count": 3,
   "metadata": {},
   "outputs": [],
   "source": [
    "from langchain import hub\n",
    "from langchain_openai import OpenAIEmbeddings\n",
    "from langchain_chroma import Chroma\n",
    "from langchain_community.document_loaders import UnstructuredMarkdownLoader\n",
    "from langchain.text_splitter import RecursiveCharacterTextSplitter\n",
    "from langchain_core.runnables import RunnablePassthrough\n",
    "from langchain_core.output_parsers import StrOutputParser"
   ]
  },
  {
   "cell_type": "code",
   "execution_count": 4,
   "metadata": {},
   "outputs": [],
   "source": [
    "folder_path = \"ca-md\"\n",
    "\n",
    "documents = []\n",
    "for filename in os.listdir(folder_path):\n",
    "    file_path = os.path.join(folder_path, filename)\n",
    "    if os.path.isfile(file_path):\n",
    "        loader = UnstructuredMarkdownLoader(file_path)\n",
    "        loaded_docs = loader.load()\n",
    "        # Add source metadata to each document\n",
    "        for doc in loaded_docs:\n",
    "            doc.metadata[\"source\"] = filename\n",
    "        documents.extend(loaded_docs)"
   ]
  },
  {
   "cell_type": "code",
   "execution_count": 5,
   "metadata": {},
   "outputs": [],
   "source": [
    "text_splitter = RecursiveCharacterTextSplitter(\n",
    "    chunk_size=1000,\n",
    "    chunk_overlap=500,\n",
    "    length_function=len,\n",
    "    add_start_index=True\n",
    ")\n",
    "text_chunks = text_splitter.split_documents(documents)"
   ]
  },
  {
   "cell_type": "code",
   "execution_count": 6,
   "metadata": {},
   "outputs": [],
   "source": [
    "vectorstore = Chroma.from_documents(documents=text_chunks, embedding=OpenAIEmbeddings())"
   ]
  },
  {
   "cell_type": "code",
   "execution_count": 7,
   "metadata": {},
   "outputs": [],
   "source": [
    "retriever = vectorstore.as_retriever()"
   ]
  },
  {
   "cell_type": "code",
   "execution_count": 8,
   "metadata": {},
   "outputs": [],
   "source": [
    "from langchain.chains import create_retrieval_chain\n",
    "from langchain.chains.combine_documents import create_stuff_documents_chain\n",
    "from langchain_core.prompts import ChatPromptTemplate"
   ]
  },
  {
   "cell_type": "markdown",
   "metadata": {},
   "source": [
    "## Prompt 1\n",
    "Idea: Using system prompt, instruct the LLM to use the documentation to help answer the user's request."
   ]
  },
  {
   "cell_type": "code",
   "execution_count": 15,
   "metadata": {},
   "outputs": [],
   "source": [
    "system_prompt = (\n",
    "    \"\"\"\n",
    "    You are a coding assistant with expertise in Crypto Arsenal's documentation.Here is a set of Crypto Arsenal's documentation retrieved to answer the question: \\n -------- \\n {context} \\n -------- \\n Ensure any code you provide can be executed with all the required imports and variables defined. If you do not know the answer or require further clarification, just say that you do not know.\n",
    "    \"\"\"\n",
    ")\n",
    "\n",
    "prompt = ChatPromptTemplate.from_messages(\n",
    "    [\n",
    "        (\"system\", system_prompt),\n",
    "        (\"human\", \"{input}\"),\n",
    "    ]\n",
    ")\n",
    "\n",
    "question_answer_chain = create_stuff_documents_chain(llm, prompt)\n",
    "rag_chain = create_retrieval_chain(retriever, question_answer_chain)"
   ]
  },
  {
   "cell_type": "code",
   "execution_count": 16,
   "metadata": {},
   "outputs": [
    {
     "name": "stdout",
     "output_type": "stream",
     "text": [
      "To create a strategy based on the Relative Strength Index (RSI) for trading Bitcoin, you can use the RSI indicator logic you provided. Here's a simple Python script using the `pandas` library to demonstrate how you can implement this strategy:\n",
      "\n",
      "```python\n",
      "import pandas as pd\n",
      "\n",
      "# Sample RSI values for Bitcoin\n",
      "rsi_values = [35, 25, 28, 75, 80, 68, 20, 40, 60]\n",
      "\n",
      "# Create a DataFrame with the RSI values\n",
      "df = pd.DataFrame(rsi_values, columns=['RSI'])\n",
      "\n",
      "# Define the RSI thresholds for buying and selling\n",
      "buy_threshold = 30\n",
      "sell_threshold = 70\n",
      "\n",
      "# Initialize a variable to hold the position status (0 - not in position, 1 - in buy position, 2 - in sell position)\n",
      "position_status = 0\n",
      "\n",
      "# Create a loop to iterate over the RSI values and implement the strategy\n",
      "for index, row in df.iterrows():\n",
      "    rsi = row['RSI']\n",
      "    \n",
      "    if rsi < buy_threshold and position_status != 1:\n",
      "        print(f\"RSI is {rsi}. Buy Bitcoin.\")\n",
      "        position_status = 1\n",
      "    elif rsi > sell_threshold and position_status != 2:\n",
      "        print(f\"RSI is {rsi}. Sell Bitcoin.\")\n",
      "        position_status = 2\n",
      "    else:\n",
      "        print(f\"RSI is {rsi}. Hold position.\")\n",
      "\n",
      "# Output the trading decisions based on RSI values\n",
      "```\n",
      "\n",
      "In this script:\n",
      "- We define the RSI values for Bitcoin (you would replace these with actual RSI values from your data).\n",
      "- We set the RSI thresholds for buying (below 30) and selling (above 70).\n",
      "- We iterate over the RSI values and implement the strategy by checking if the RSI crosses the defined thresholds to trigger buy or sell signals.\n",
      "\n",
      "Please ensure you have actual RSI values in your dataset to test this script effectively. Let me know if you need further assistance!\n"
     ]
    }
   ],
   "source": [
    "response = rag_chain.invoke({\"input\": \"I want to create a strategy where I buy Bitcoin if its RSI drops below 30 and sell if it goes above 70.\"})\n",
    "print(response[\"answer\"])"
   ]
  },
  {
   "cell_type": "code",
   "execution_count": 17,
   "metadata": {},
   "outputs": [
    {
     "name": "stdout",
     "output_type": "stream",
     "text": [
      "Source: rsi.md\n",
      "Source: rsi.md\n",
      "Source: 01-sync-by-position.md\n",
      "Source: dmi.md\n"
     ]
    }
   ],
   "source": [
    "for document in response[\"context\"]:\n",
    "    print(f\"Source: {document.metadata['source']}\")\n",
    "    #print('#############################################################')"
   ]
  },
  {
   "cell_type": "markdown",
   "metadata": {},
   "source": [
    "LLM is able to find the correct documentation of the technical indicator (in this case RSI). \\\n",
    "However, the retriever is only able to retrieve documentation for the technical indicator and not the necessary markdown documentations for generating strategy code (hello-world.mdx)."
   ]
  },
  {
   "cell_type": "markdown",
   "metadata": {},
   "source": [
    "## Prompt 2\n",
    "Idea: under system prompt, explicitly tells the LLM to generate code that follows the template found in 'hello-world.mdx'\n",
    "\n",
    "Issue: the retriever only uses the input query to retrieve relevant documents. That is, it does not look at the system prompt for identifying what documents to retrieve."
   ]
  },
  {
   "cell_type": "code",
   "execution_count": 12,
   "metadata": {},
   "outputs": [],
   "source": [
    "system_prompt = (\n",
    "    \"\"\"\n",
    "    You are a coding assistant with expertise in Crypto Arsenal's documentation.\n",
    "    You are task with generating code based on the template in file 'hello-world.mdx' that help executes the user's trading sytrategy.\n",
    "    Here is a set of Crypto Arsenal's documentation retrieved to answer the question: \\n -------- \\n {context} \\n -------- \\n Ensure any code you provide can be executed with all the required imports and variables defined. If you do not know the answer or require further clarification, just say that you do not know.\n",
    "    \"\"\"\n",
    ")\n",
    "\n",
    "prompt = ChatPromptTemplate.from_messages(\n",
    "    [\n",
    "        (\"system\", system_prompt),\n",
    "        (\"human\", \"{input}\"),\n",
    "    ]\n",
    ")\n",
    "\n",
    "question_answer_chain = create_stuff_documents_chain(llm, prompt)\n",
    "rag_chain = create_retrieval_chain(retriever, question_answer_chain)"
   ]
  },
  {
   "cell_type": "code",
   "execution_count": 13,
   "metadata": {},
   "outputs": [
    {
     "name": "stdout",
     "output_type": "stream",
     "text": [
      "To create a trading strategy based on the RSI (Relative Strength Index) for buying Bitcoin when its RSI drops below 30 and selling when it goes above 70, you can use the following Python code snippet along with the `ta` library for calculating the RSI. Make sure to have the `ta` library installed by running `pip install ta`.\n",
      "\n",
      "Here's a sample code snippet for your strategy:\n",
      "\n",
      "```python\n",
      "# Import the necessary libraries\n",
      "import pandas as pd\n",
      "import ta\n",
      "\n",
      "# Load your Bitcoin price data into a pandas DataFrame (replace this with your actual data)\n",
      "# Make sure your DataFrame has columns named 'High', 'Low', and 'Close'\n",
      "data = pd.read_csv('bitcoin_price_data.csv')\n",
      "\n",
      "# Calculate the RSI with a period of 14 days using the ta library\n",
      "data['RSI'] = ta.momentum.RSIIndicator(data['Close'], window=14).rsi()\n",
      "\n",
      "# Implement your trading strategy based on RSI\n",
      "# Initialize a variable to track if we are currently in a position\n",
      "in_position = False\n",
      "\n",
      "# Loop through the RSI values\n",
      "for index, row in data.iterrows():\n",
      "    if row['RSI'] < 30 and not in_position:  # Buy signal\n",
      "        print(\"Buy Bitcoin at price:\", row['Close'])\n",
      "        in_position = True\n",
      "    elif row['RSI'] > 70 and in_position:  # Sell signal\n",
      "        print(\"Sell Bitcoin at price:\", row['Close'])\n",
      "        in_position = False\n",
      "```\n",
      "\n",
      "In the code snippet above:\n",
      "- Replace `'bitcoin_price_data.csv'` with the path to your actual Bitcoin price data file.\n",
      "- The code calculates the RSI for Bitcoin price data with a window of 14 days.\n",
      "- It then iterates through the RSI values and generates buy or sell signals based on your strategy.\n",
      "\n",
      "Remember that this is a basic example and does not include considerations like brokerage fees, slippage, or other factors that may affect the actual implementation of a trading strategy. Always test your strategy thoroughly before using it in live trading.\n"
     ]
    }
   ],
   "source": [
    "response = rag_chain.invoke({\"input\": \"I want to create a strategy where I buy Bitcoin if its RSI drops below 30 and sell if it goes above 70.\"})\n",
    "print(response[\"answer\"])"
   ]
  },
  {
   "cell_type": "code",
   "execution_count": 14,
   "metadata": {},
   "outputs": [
    {
     "name": "stdout",
     "output_type": "stream",
     "text": [
      "Source: rsi.md\n",
      "Source: rsi.md\n",
      "Source: 01-sync-by-position.md\n",
      "Source: dmi.md\n"
     ]
    }
   ],
   "source": [
    "for document in response[\"context\"]:\n",
    "    print(f\"Source: {document.metadata['source']}\")\n",
    "    #print('#############################################################')"
   ]
  }
 ],
 "metadata": {
  "kernelspec": {
   "display_name": "Python 3",
   "language": "python",
   "name": "python3"
  },
  "language_info": {
   "codemirror_mode": {
    "name": "ipython",
    "version": 3
   },
   "file_extension": ".py",
   "mimetype": "text/x-python",
   "name": "python",
   "nbconvert_exporter": "python",
   "pygments_lexer": "ipython3",
   "version": "3.11.3"
  }
 },
 "nbformat": 4,
 "nbformat_minor": 2
}
