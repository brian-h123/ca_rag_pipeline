{
 "cells": [
  {
   "cell_type": "markdown",
   "metadata": {},
   "source": [
    "# V2.2 RAG with Strategy Template\n",
    "\n",
    "Instead of chunking documents, treat each python code template file as one document to be store in the vector database. \n",
    "\n",
    "Hypothesis: By storing embeddings of code templates as a whole rather than splitting them, we avoid missing context or dependencies. \n",
    "\n",
    "We will set the model ```temperature = 0``` to get a more deterministic result. "
   ]
  },
  {
   "cell_type": "markdown",
   "metadata": {},
   "source": [
    "## Takeaways\n",
    "1. Indexing the code template as a single document lowers the performance\n",
    "    - This is test across all available search_types. The retriever might not always retrieve the correct documents that is relevant to the query (ie. Aroon rather than RSI)\n",
    "    - One possible explanation for this issue could be the similarity between the code templates. Because most code templates share similar, if not overlapping structures (ie. \"class Strategy(StrategyBase)....def __init__(self)\"), there might be too much noise when embedding the documents. And so the retriever fails to identify relevance between the query and the documents, in this case the keyword \"RSI\".\n",
    "2. The ParentDocumentRetriever could be an option when we want the retriever to return the full code template\n",
    "    - It performs the chunking process, but retrieve information on a document (parent) level rather than chunks.\n",
    "    - There are also other advanced retriever from Langchain that is worth investigating, such as the MultiVector (adding summaries and hypothetical questions on top of chunking for each document) and Self-Query (fetch documents based on metadata)"
   ]
  },
  {
   "cell_type": "code",
   "execution_count": 1,
   "metadata": {},
   "outputs": [
    {
     "name": "stdout",
     "output_type": "stream",
     "text": [
      "Note: you may need to restart the kernel to use updated packages.\n"
     ]
    },
    {
     "name": "stderr",
     "output_type": "stream",
     "text": [
      "\n",
      "[notice] A new release of pip is available: 24.1.2 -> 24.2\n",
      "[notice] To update, run: python.exe -m pip install --upgrade pip\n"
     ]
    },
    {
     "name": "stdout",
     "output_type": "stream",
     "text": [
      "Note: you may need to restart the kernel to use updated packages.\n"
     ]
    },
    {
     "name": "stderr",
     "output_type": "stream",
     "text": [
      "\n",
      "[notice] A new release of pip is available: 24.1.2 -> 24.2\n",
      "[notice] To update, run: python.exe -m pip install --upgrade pip\n"
     ]
    },
    {
     "name": "stdout",
     "output_type": "stream",
     "text": [
      "Note: you may need to restart the kernel to use updated packages.\n"
     ]
    },
    {
     "name": "stderr",
     "output_type": "stream",
     "text": [
      "\n",
      "[notice] A new release of pip is available: 24.1.2 -> 24.2\n",
      "[notice] To update, run: python.exe -m pip install --upgrade pip\n"
     ]
    },
    {
     "name": "stdout",
     "output_type": "stream",
     "text": [
      "Note: you may need to restart the kernel to use updated packages.\n"
     ]
    },
    {
     "name": "stderr",
     "output_type": "stream",
     "text": [
      "\n",
      "[notice] A new release of pip is available: 24.1.2 -> 24.2\n",
      "[notice] To update, run: python.exe -m pip install --upgrade pip\n"
     ]
    },
    {
     "name": "stdout",
     "output_type": "stream",
     "text": [
      "Note: you may need to restart the kernel to use updated packages.\n"
     ]
    },
    {
     "name": "stderr",
     "output_type": "stream",
     "text": [
      "\n",
      "[notice] A new release of pip is available: 24.1.2 -> 24.2\n",
      "[notice] To update, run: python.exe -m pip install --upgrade pip\n"
     ]
    }
   ],
   "source": [
    "%pip install --user -qU langchain\n",
    "%pip install --user -qU langchain_community\n",
    "%pip install --user -qU langchain_chroma\n",
    "%pip install --user -qU langchain-openai\n",
    "%pip install --user -qU langchainhub"
   ]
  },
  {
   "cell_type": "code",
   "execution_count": 2,
   "metadata": {},
   "outputs": [],
   "source": [
    "import os\n",
    "import getpass\n",
    "\n",
    "os.environ['OPENAI_API_KEY'] = getpass.getpass()"
   ]
  },
  {
   "cell_type": "code",
   "execution_count": 3,
   "metadata": {},
   "outputs": [],
   "source": [
    "from langchain_openai import OpenAIEmbeddings\n",
    "from langchain_chroma import Chroma\n",
    "from langchain_community.document_loaders import PythonLoader\n",
    "from langchain_text_splitters import ( Language, RecursiveCharacterTextSplitter)"
   ]
  },
  {
   "cell_type": "code",
   "execution_count": 4,
   "metadata": {},
   "outputs": [],
   "source": [
    "from langchain.chains import create_retrieval_chain\n",
    "from langchain.chains.combine_documents import create_stuff_documents_chain\n",
    "from langchain_core.prompts import ChatPromptTemplate"
   ]
  },
  {
   "cell_type": "code",
   "execution_count": 5,
   "metadata": {},
   "outputs": [],
   "source": [
    "from langchain_openai import ChatOpenAI\n",
    "llm = ChatOpenAI(model=\"gpt-3.5-turbo-0125\", temperature=0)"
   ]
  },
  {
   "cell_type": "code",
   "execution_count": 6,
   "metadata": {},
   "outputs": [],
   "source": [
    "folder_path = \"strategy-template\"\n",
    "\n",
    "documents = []\n",
    "for filename in os.listdir(folder_path):\n",
    "    file_path = os.path.join(folder_path, filename)\n",
    "    if os.path.isfile(file_path):\n",
    "        loader = PythonLoader(file_path)\n",
    "        loaded_docs = loader.load()\n",
    "        # Add source metadata to each document\n",
    "        for doc in loaded_docs:\n",
    "            doc.metadata[\"source\"] = filename\n",
    "        documents.extend(loaded_docs)"
   ]
  },
  {
   "cell_type": "code",
   "execution_count": 7,
   "metadata": {},
   "outputs": [
    {
     "name": "stdout",
     "output_type": "stream",
     "text": [
      "page_content='class Strategy(StrategyBase):\n",
      "    def __init__(self):\n",
      "        # strategy property\n",
      "        self.subscribed_books = {}\n",
      "        self.period = 45 * 60\n",
      "        self.options = {}\n",
      "\n",
      "        self.divide_quote = 0\n",
      "        self.proportion = 0.2\n",
      "        self.aroon_period = 14\n",
      "\n",
      "    def on_order_state_change(self,  order):\n",
      "        pass\n",
      "\n",
      "    def trade(self, candles):\n",
      "        exchange, pair, base, quote = CA.get_exchange_pair()\n",
      "        \n",
      "        close_price_history = [candle['close'] for candle in candles[exchange][pair]]\n",
      "        high_price_history = [candle['high'] for candle in candles[exchange][pair]]\n",
      "        low_price_history = [candle['low'] for candle in candles[exchange][pair]]\n",
      "        open_price_history = [candle['open'] for candle in candles[exchange][pair]]\n",
      "\n",
      "        # convert to chronological order for talib\n",
      "        close_price_history.reverse()\n",
      "        high_price_history.reverse()\n",
      "        low_price_history.reverse()\n",
      "        open_price_history.reverse()\n",
      "\n",
      "        # convert to np.array\n",
      "        close_price_history = np.array(close_price_history)\n",
      "        high_price_history = np.array(high_price_history)\n",
      "        low_price_history = np.array(low_price_history)\n",
      "        open_price_history = np.array(open_price_history)\n",
      "\n",
      "        close_price = close_price_history[-1]\n",
      "        high_price = high_price_history[-1]\n",
      "\n",
      "        # get available balance\n",
      "        base_balance = CA.get_balance(exchange, base)\n",
      "        quote_balance = CA.get_balance(exchange, quote)\n",
      "        available_base_amount = base_balance.available\n",
      "        available_quote_amount = quote_balance.available\n",
      "\n",
      "        if self.divide_quote == 0:\n",
      "            self.divide_quote = np.round(available_quote_amount* self.proportion, 5)\n",
      "\n",
      "        aroondown, aroonup = talib.AROON(high_price_history, low_price_history, timeperiod=self.aroon_period)\n",
      "        aroon_down = aroondown[-1]\n",
      "        aroon_up = aroonup[-1]\n",
      "\n",
      "        signal = 0\n",
      "        # Aroon-Up above 50 and Aroon-Up larger than Aroon-Down mean the market is bullish\n",
      "        if aroon_up > 50 and aroon_up > aroon_down:\n",
      "            signal = 1\n",
      "\n",
      "        # Aroon-Down above 50 and Aroon-Dwon larger than Aroon-Up mean the market is bearish\n",
      "        elif aroon_down > 50 and aroon_down > aroon_up:\n",
      "            signal = -1\n",
      "\n",
      "        # place buy order\n",
      "        if signal == 1:\n",
      "            amount = self.divide_quote/high_price\n",
      "            if available_quote_amount >= amount * close_price:\n",
      "                CA.log('Buy ' + base)\n",
      "                CA.buy(exchange, pair, amount, CA.OrderType.MARKET)\n",
      "\n",
      "        # place sell order\n",
      "        elif signal == -1:\n",
      "            if available_base_amount > 0.00001:\n",
      "                self.divide_quote = 0\n",
      "                CA.log('Sell ' + base)\n",
      "                CA.sell(exchange, pair, available_base_amount, CA.OrderType.MARKET)\n",
      "        return \n",
      "' metadata={'source': 'Aroon-en.py'}\n"
     ]
    }
   ],
   "source": [
    "print(documents[0])"
   ]
  },
  {
   "cell_type": "markdown",
   "metadata": {},
   "source": [
    "## Search_type: \"similarity\""
   ]
  },
  {
   "cell_type": "code",
   "execution_count": 8,
   "metadata": {},
   "outputs": [],
   "source": [
    "vectorstore = Chroma.from_documents(documents=documents, embedding=OpenAIEmbeddings())\n",
    "retriever = vectorstore.as_retriever(search_type= \"similarity\",\n",
    "                                     search_kwargs={'k': 4})"
   ]
  },
  {
   "cell_type": "code",
   "execution_count": 9,
   "metadata": {},
   "outputs": [],
   "source": [
    "system_prompt = (\n",
    "    \"\"\"\n",
    "    You are a coding assistant with expertise in Crypto Arsenal's documentation.Here is a set of Crypto Arsenal's documentation retrieved to answer the question: \\n -------- \\n {context} \\n -------- \\n Ensure any code you provide can be executed with all the required imports and variables defined. If you do not know the answer or require further clarification, just say that you do not know.\n",
    "    \"\"\"\n",
    ")\n",
    "\n",
    "prompt = ChatPromptTemplate.from_messages(\n",
    "    [\n",
    "        (\"system\", system_prompt),\n",
    "        (\"human\", \"{input}\"),\n",
    "    ]\n",
    ")\n",
    "\n",
    "question_answer_chain = create_stuff_documents_chain(llm, prompt)\n",
    "rag_chain = create_retrieval_chain(retriever, question_answer_chain)"
   ]
  },
  {
   "cell_type": "code",
   "execution_count": 10,
   "metadata": {},
   "outputs": [
    {
     "name": "stdout",
     "output_type": "stream",
     "text": [
      "To create a strategy where you buy Bitcoin if its RSI drops below 30 and sell if it goes above 70, you can modify the existing `Strategy` class provided in the documentation. Below is the modified `trade` method of the `Strategy` class that implements the desired strategy:\n",
      "\n",
      "```python\n",
      "import numpy as np\n",
      "import talib\n",
      "\n",
      "class Strategy(StrategyBase):\n",
      "    def __init__(self):\n",
      "        # strategy property\n",
      "        self.subscribed_books = {}\n",
      "        self.period = 30 * 60\n",
      "        self.options = {}\n",
      "\n",
      "        self.rsi_lower_band = 30\n",
      "        self.rsi_upper_band = 70\n",
      "\n",
      "    def on_order_state_change(self, order):\n",
      "        pass\n",
      "\n",
      "    # called every self.period\n",
      "    def trade(self, candles):\n",
      "        exchange, pair, base, quote = CA.get_exchange_pair()\n",
      "\n",
      "        close_price_history = [candle['close'] for candle in candles[exchange][pair]]\n",
      "\n",
      "        # convert to chronological order for talib\n",
      "        close_price_history.reverse()\n",
      "\n",
      "        # convert np.array\n",
      "        close_price_history = np.array(close_price_history)\n",
      "\n",
      "        rsi = talib.RSI(close_price_history, timeperiod=14)\n",
      "\n",
      "        if len(rsi) < 2:\n",
      "            return\n",
      "\n",
      "        curr_rsi = rsi[-1]\n",
      "        prev_rsi = rsi[-2]\n",
      "\n",
      "        # get available balance\n",
      "        base_balance = CA.get_balance(exchange, base)\n",
      "        quote_balance = CA.get_balance(exchange, quote)\n",
      "        available_base_amount = base_balance.available\n",
      "        available_quote_amount = quote_balance.available\n",
      "\n",
      "        # initialize signal to be 0\n",
      "        signal = 0\n",
      "\n",
      "        # Buy if RSI drops below 30\n",
      "        if curr_rsi < self.rsi_lower_band and prev_rsi >= self.rsi_lower_band:\n",
      "            signal = 1\n",
      "\n",
      "        # Sell if RSI goes above 70\n",
      "        if curr_rsi > self.rsi_upper_band and prev_rsi <= self.rsi_upper_band:\n",
      "            signal = -1\n",
      "\n",
      "        # place buy order\n",
      "        if signal == 1:\n",
      "            CA.log('Buy ' + base)\n",
      "            CA.buy(exchange, pair, available_quote_amount, CA.OrderType.MARKET)\n",
      "\n",
      "        # place sell order\n",
      "        elif signal == -1:\n",
      "            CA.log('Sell ' + base)\n",
      "            CA.sell(exchange, pair, available_base_amount, CA.OrderType.MARKET)\n",
      "\n",
      "        return\n",
      "```\n",
      "\n",
      "In this modified `trade` method, the RSI indicator is calculated based on the closing prices of the candles. The strategy buys Bitcoin when the RSI drops below 30 and sells when the RSI goes above 70. The `signal` variable is used to determine whether to buy, sell, or hold based on the RSI conditions.\n",
      "\n",
      "Please ensure that you have the necessary imports and variables defined to execute this code successfully.\n"
     ]
    }
   ],
   "source": [
    "response_1 = rag_chain.invoke({\"input\": \"I want to create a strategy where I buy Bitcoin if its RSI drops below 30 and sell if it goes above 70.\"})\n",
    "print(response_1[\"answer\"])"
   ]
  },
  {
   "cell_type": "code",
   "execution_count": 11,
   "metadata": {},
   "outputs": [
    {
     "name": "stdout",
     "output_type": "stream",
     "text": [
      "Source: RSI-en.py\n",
      "Source: DMI-en.py\n",
      "Source: MFI-en.py\n",
      "Source: Double_Bottom-en.py\n"
     ]
    }
   ],
   "source": [
    "for document in response_1[\"context\"]:\n",
    "    print(f\"Source: {document.metadata['source']}\")"
   ]
  },
  {
   "cell_type": "markdown",
   "metadata": {},
   "source": [
    "## Search_type = \"mmr\" (Maximum Marginal Relevance)"
   ]
  },
  {
   "cell_type": "code",
   "execution_count": 12,
   "metadata": {},
   "outputs": [],
   "source": [
    "retriever = vectorstore.as_retriever(search_type= \"mmr\",\n",
    "                                     search_kwargs={'k': 1})"
   ]
  },
  {
   "cell_type": "code",
   "execution_count": 13,
   "metadata": {},
   "outputs": [],
   "source": [
    "system_prompt = (\n",
    "    \"\"\"\n",
    "    You are a coding assistant with expertise in Crypto Arsenal's documentation.Here is a set of Crypto Arsenal's documentation retrieved to answer the question: \\n -------- \\n {context} \\n -------- \\n Ensure any code you provide can be executed with all the required imports and variables defined. If you do not know the answer or require further clarification, just say that you do not know.\n",
    "    \"\"\"\n",
    ")\n",
    "\n",
    "prompt = ChatPromptTemplate.from_messages(\n",
    "    [\n",
    "        (\"system\", system_prompt),\n",
    "        (\"human\", \"{input}\"),\n",
    "    ]\n",
    ")\n",
    "\n",
    "question_answer_chain = create_stuff_documents_chain(llm, prompt)\n",
    "rag_chain = create_retrieval_chain(retriever, question_answer_chain)"
   ]
  },
  {
   "cell_type": "code",
   "execution_count": 14,
   "metadata": {},
   "outputs": [
    {
     "name": "stdout",
     "output_type": "stream",
     "text": [
      "To create a strategy where you buy Bitcoin if its RSI drops below 30 and sell if it goes above 70, you can modify the existing `trade` method in the provided `Strategy` class. You will need to calculate the RSI (Relative Strength Index) for Bitcoin's price history and then implement the buying and selling logic based on the RSI values.\n",
      "\n",
      "Here is the modified `trade` method for the given `Strategy` class:\n",
      "\n",
      "```python\n",
      "import numpy as np\n",
      "import talib\n",
      "\n",
      "class Strategy(StrategyBase):\n",
      "    def __init__(self):\n",
      "        # strategy property\n",
      "        self.subscribed_books = {}\n",
      "        self.period = 45 * 60\n",
      "        self.options = {}\n",
      "\n",
      "        self.divide_quote = 0\n",
      "        self.proportion = 0.2\n",
      "        self.rsi_period = 14\n",
      "\n",
      "    def on_order_state_change(self, order):\n",
      "        pass\n",
      "\n",
      "    def trade(self, candles):\n",
      "        exchange, pair, base, quote = CA.get_exchange_pair()\n",
      "\n",
      "        close_price_history = [candle['close'] for candle in candles[exchange][pair]]\n",
      "        close_price_history.reverse()\n",
      "\n",
      "        close_price = np.array(close_price_history)\n",
      "\n",
      "        # Calculate RSI\n",
      "        rsi = talib.RSI(close_price, timeperiod=self.rsi_period)\n",
      "        current_rsi = rsi[-1]\n",
      "\n",
      "        # get available balance\n",
      "        base_balance = CA.get_balance(exchange, base)\n",
      "        quote_balance = CA.get_balance(exchange, quote)\n",
      "        available_base_amount = base_balance.available\n",
      "        available_quote_amount = quote_balance.available\n",
      "\n",
      "        # Buy if RSI drops below 30\n",
      "        if current_rsi < 30:\n",
      "            amount = available_quote_amount / close_price[-1]  # Buy with all available quote balance\n",
      "            CA.log('Buy ' + base)\n",
      "            CA.buy(exchange, pair, amount, CA.OrderType.MARKET)\n",
      "\n",
      "        # Sell if RSI goes above 70\n",
      "        elif current_rsi > 70:\n",
      "            if available_base_amount > 0.00001:\n",
      "                CA.log('Sell ' + base)\n",
      "                CA.sell(exchange, pair, available_base_amount, CA.OrderType.MARKET)\n",
      "\n",
      "        return\n",
      "```\n",
      "\n",
      "In this modified `trade` method, we calculate the RSI for Bitcoin's price history and then check if the current RSI is below 30 to buy or above 70 to sell. The buying logic buys Bitcoin with all available quote balance when RSI is below 30, and the selling logic sells all available Bitcoin when RSI is above 70.\n",
      "\n",
      "Make sure to adjust the `rsi_period` parameter in the `__init__` method if needed based on your trading preferences.\n"
     ]
    }
   ],
   "source": [
    "response_1 = rag_chain.invoke({\"input\": \"I want to create a strategy where I buy Bitcoin if its RSI drops below 30 and sell if it goes above 70.\"})\n",
    "print(response_1[\"answer\"])"
   ]
  },
  {
   "cell_type": "code",
   "execution_count": 15,
   "metadata": {},
   "outputs": [
    {
     "name": "stdout",
     "output_type": "stream",
     "text": [
      "Source: Aroon-en.py\n"
     ]
    }
   ],
   "source": [
    "for document in response_1[\"context\"]:\n",
    "    print(f\"Source: {document.metadata['source']}\")"
   ]
  },
  {
   "cell_type": "markdown",
   "metadata": {},
   "source": [
    "## Search_type = \"similarity_score_threshold\""
   ]
  },
  {
   "cell_type": "code",
   "execution_count": 16,
   "metadata": {},
   "outputs": [],
   "source": [
    "retriever = vectorstore.as_retriever(search_type= \"similarity_score_threshold\",\n",
    "                                     search_kwargs={\"score_threshold\": 0.5, \"k\":1})"
   ]
  },
  {
   "cell_type": "code",
   "execution_count": 17,
   "metadata": {},
   "outputs": [],
   "source": [
    "system_prompt = (\n",
    "    \"\"\"\n",
    "    You are a coding assistant with expertise in Crypto Arsenal's documentation.Here is a set of Crypto Arsenal's documentation retrieved to answer the question: \\n -------- \\n {context} \\n -------- \\n Ensure any code you provide can be executed with all the required imports and variables defined. If you do not know the answer or require further clarification, just say that you do not know.\n",
    "    \"\"\"\n",
    ")\n",
    "\n",
    "prompt = ChatPromptTemplate.from_messages(\n",
    "    [\n",
    "        (\"system\", system_prompt),\n",
    "        (\"human\", \"{input}\"),\n",
    "    ]\n",
    ")\n",
    "\n",
    "question_answer_chain = create_stuff_documents_chain(llm, prompt)\n",
    "rag_chain = create_retrieval_chain(retriever, question_answer_chain)"
   ]
  },
  {
   "cell_type": "code",
   "execution_count": 18,
   "metadata": {},
   "outputs": [
    {
     "name": "stdout",
     "output_type": "stream",
     "text": [
      "To create a strategy where you buy Bitcoin if its RSI drops below 30 and sell if it goes above 70, you can modify the existing `trade` method in the provided `Strategy` class. Here's how you can adjust the existing code:\n",
      "\n",
      "1. Update the `rsi_lower_band` to 30 and `rsi_upper_band` to 70 in the `__init__` method of the `Strategy` class.\n",
      "2. Modify the `trade` method to reflect the new buy and sell conditions based on RSI values.\n",
      "\n",
      "Here is the modified code snippet for the `trade` method:\n",
      "\n",
      "```python\n",
      "def trade(self, candles):\n",
      "    exchange, pair, base, quote = CA.get_exchange_pair()\n",
      "    \n",
      "    close_price_history = [candle['close'] for candle in candles[exchange][pair]]\n",
      "    \n",
      "    # convert to chronological order for talib\n",
      "    close_price_history.reverse()\n",
      "    \n",
      "    # convert np.array\n",
      "    close_price_history = np.array(close_price_history)\n",
      "\n",
      "    close_price = close_price_history[-1]\n",
      "\n",
      "    rsi = talib.RSI(close_price_history, self.long_period)\n",
      "    \n",
      "    if len(close_price_history) < self.long_period + 1:\n",
      "        return []\n",
      "    \n",
      "    # current RSI\n",
      "    curr_rsi = rsi[-1]\n",
      "    prev_rsi = rsi[-2]\n",
      "\n",
      "    # get available balance\n",
      "    base_balance = CA.get_balance(exchange, base)\n",
      "    quote_balance = CA.get_balance(exchange, quote)\n",
      "    available_base_amount = base_balance.available\n",
      "    available_quote_amount = quote_balance.available\n",
      "\n",
      "    # initialize signal to be 0\n",
      "    signal = 0\n",
      "\n",
      "    # Buy if RSI drops below 30\n",
      "    if curr_rsi < 30 and prev_rsi >= 30:\n",
      "        signal = 1\n",
      "    # Sell if RSI goes above 70\n",
      "    elif curr_rsi > 70 and prev_rsi <= 70:\n",
      "        signal = -1\n",
      "\n",
      "    if signal == 1:\n",
      "        CA.log('Buy ' + base)\n",
      "        CA.buy(exchange, pair, available_quote_amount, CA.OrderType.MARKET)\n",
      "    elif signal == -1:\n",
      "        CA.log('Sell ' + base)\n",
      "        CA.sell(exchange, pair, available_base_amount, CA.OrderType.MARKET)\n",
      "\n",
      "    return\n",
      "```\n",
      "\n",
      "Make sure to adjust the `rsi_lower_band` and `rsi_upper_band` values in the `__init__` method to 30 and 70 respectively. This code will buy Bitcoin when the RSI drops below 30 and sell when it goes above 70.\n"
     ]
    }
   ],
   "source": [
    "response_1 = rag_chain.invoke({\"input\": \"I want to create a strategy where I buy Bitcoin if its RSI drops below 30 and sell if it goes above 70.\"})\n",
    "print(response_1[\"answer\"])"
   ]
  },
  {
   "cell_type": "code",
   "execution_count": 19,
   "metadata": {},
   "outputs": [
    {
     "name": "stdout",
     "output_type": "stream",
     "text": [
      "Source: RSI-en.py\n"
     ]
    }
   ],
   "source": [
    "for document in response_1[\"context\"]:\n",
    "    print(f\"Source: {document.metadata['source']}\")"
   ]
  },
  {
   "cell_type": "markdown",
   "metadata": {},
   "source": [
    "## Parent Document Retriever\n",
    "https://python.langchain.com/v0.1/docs/modules/data_connection/retrievers/parent_document_retriever/\n",
    "\n",
    "Motives of Parent Document Retriever\n",
    "-   We may want to have small documents such that their embeddings can most accurately reflect their meaning. Embeddings can lose meaning in long documents.\n",
    "- We also want to have long enough documents so that the context is retained.\n",
    "- During retrieval, the ```ParentDocumentRetriever``` first fetches the small chunks but then looks up the parents ids for those chunks and returns those larger documents."
   ]
  },
  {
   "cell_type": "code",
   "execution_count": 20,
   "metadata": {},
   "outputs": [],
   "source": [
    "# Reseting Chroma vectorstore collection\n",
    "vectorstore.reset_collection()"
   ]
  },
  {
   "cell_type": "code",
   "execution_count": 21,
   "metadata": {},
   "outputs": [],
   "source": [
    "from langchain.retrievers import ParentDocumentRetriever"
   ]
  },
  {
   "cell_type": "code",
   "execution_count": 22,
   "metadata": {},
   "outputs": [],
   "source": [
    "from langchain.storage import InMemoryStore\n",
    "from langchain_chroma import Chroma\n",
    "from langchain_community.document_loaders import PythonLoader\n",
    "from langchain_openai import OpenAIEmbeddings\n",
    "from langchain_text_splitters import ( Language, RecursiveCharacterTextSplitter)"
   ]
  },
  {
   "cell_type": "code",
   "execution_count": 23,
   "metadata": {},
   "outputs": [],
   "source": [
    "text_splitter = RecursiveCharacterTextSplitter.from_language(\n",
    "    language=Language.PYTHON, \n",
    "    chunk_size=2000, \n",
    "    chunk_overlap=500,\n",
    "    length_function=len,\n",
    "    add_start_index=True\n",
    ")"
   ]
  },
  {
   "cell_type": "code",
   "execution_count": 24,
   "metadata": {},
   "outputs": [],
   "source": [
    "# The vectorstore to use to index the child chunks\n",
    "vectorstore = Chroma(\n",
    "    collection_name=\"full_documents\", embedding_function=OpenAIEmbeddings()\n",
    ")"
   ]
  },
  {
   "cell_type": "code",
   "execution_count": 25,
   "metadata": {},
   "outputs": [],
   "source": [
    "# The storage layer for the parent documents\n",
    "store = InMemoryStore()\n",
    "retriever = ParentDocumentRetriever(\n",
    "    vectorstore=vectorstore,\n",
    "    docstore=store,\n",
    "    child_splitter=text_splitter,\n",
    "    search_type=\"similarity\",\n",
    "    search_kwargs={'k': 1}\n",
    ")"
   ]
  },
  {
   "cell_type": "code",
   "execution_count": 26,
   "metadata": {},
   "outputs": [],
   "source": [
    "retriever.add_documents(documents, ids=None)"
   ]
  },
  {
   "cell_type": "code",
   "execution_count": 27,
   "metadata": {},
   "outputs": [
    {
     "data": {
      "text/plain": [
       "['6c9b4ed2-3544-4508-ab5e-be894a77c7b0',\n",
       " 'ef9374f4-3a85-49e4-923e-8ee2b53005c6',\n",
       " '222b9e3e-ecd7-42b6-ba3a-01fd6bef4057',\n",
       " '748c4131-b4b7-4a26-b529-857e331718db',\n",
       " '136895ad-959e-4099-96e0-c53ac96cec28',\n",
       " 'a70f0f70-b228-4f59-b84a-fd577aaf44f8',\n",
       " '411110ab-13f0-40a3-95cb-933c724470c9',\n",
       " '21ccd7ac-3faa-44c6-8c62-80d1f4078bfa',\n",
       " 'df20fac6-4398-4a66-9b70-1f9389902992',\n",
       " '32ff63ab-da5a-41cc-8c76-8c2e52f17a48',\n",
       " '00be5981-0d0f-4ddf-b718-4a5704ccaf73',\n",
       " 'f28c5c12-6c90-480b-a6ed-e75a9090d0d5',\n",
       " '0b0cd0cd-ec88-4833-a977-d46cd1b92580',\n",
       " '114a587f-09a7-4753-93c1-9bd2aa16aea2',\n",
       " 'b3763dda-a024-4776-970d-4975af8b56da',\n",
       " '03957d11-b2a9-453e-868b-dfffa27a0f5c',\n",
       " '23019f7b-2878-41e7-9b2e-75410f6d3a5c',\n",
       " '4388409e-9f9b-4a7c-9f7c-20375c7ab9bf',\n",
       " 'e31570b6-beba-4165-ba35-20690c2fce0c',\n",
       " '044d0ba6-57b3-4b80-b8cd-bae033a58022',\n",
       " '0663e17c-79f8-49ca-a960-06760f195972',\n",
       " '57d5fd62-5bcf-48c6-8737-f92a4e9579a4']"
      ]
     },
     "execution_count": 27,
     "metadata": {},
     "output_type": "execute_result"
    }
   ],
   "source": [
    "list(store.yield_keys())"
   ]
  },
  {
   "cell_type": "code",
   "execution_count": 28,
   "metadata": {},
   "outputs": [],
   "source": [
    "system_prompt = (\n",
    "    \"\"\"\n",
    "    You are a coding assistant with expertise in Crypto Arsenal's documentation.Here is a set of Crypto Arsenal's documentation retrieved to answer the question: \\n -------- \\n {context} \\n -------- \\n Ensure any code you provide can be executed with all the required imports and variables defined. If you do not know the answer or require further clarification, just say that you do not know.\n",
    "    \"\"\"\n",
    ")\n",
    "\n",
    "prompt = ChatPromptTemplate.from_messages(\n",
    "    [\n",
    "        (\"system\", system_prompt),\n",
    "        (\"human\", \"{input}\"),\n",
    "    ]\n",
    ")\n",
    "\n",
    "question_answer_chain = create_stuff_documents_chain(llm, prompt)\n",
    "rag_chain = create_retrieval_chain(retriever, question_answer_chain)"
   ]
  },
  {
   "cell_type": "code",
   "execution_count": 29,
   "metadata": {},
   "outputs": [
    {
     "name": "stdout",
     "output_type": "stream",
     "text": [
      "To create a strategy where you buy Bitcoin if its RSI drops below 30 and sell if it goes above 70, you can modify the existing `trade` method in the provided `Strategy` class. Here's how you can adjust the existing code:\n",
      "\n",
      "1. Update the `rsi_lower_band` to 30 and `rsi_upper_band` to 70 in the `__init__` method of the `Strategy` class.\n",
      "2. Modify the logic in the `trade` method to buy when RSI drops below 30 and sell when RSI goes above 70.\n",
      "\n",
      "Here's the modified code snippet for the `trade` method:\n",
      "\n",
      "```python\n",
      "def trade(self, candles):\n",
      "    exchange, pair, base, quote = CA.get_exchange_pair()\n",
      "    \n",
      "    close_price_history = [candle['close'] for candle in candles[exchange][pair]]\n",
      "    \n",
      "    # convert to chronological order for talib\n",
      "    close_price_history.reverse()\n",
      "    \n",
      "    # convert np.array\n",
      "    close_price_history = np.array(close_price_history)\n",
      "\n",
      "    close_price = close_price_history[-1]\n",
      "\n",
      "    rsi = talib.RSI(close_price_history, self.long_period)\n",
      "    \n",
      "    if len(close_price_history) < self.long_period + 1:\n",
      "        return []\n",
      "    \n",
      "    # current RSI\n",
      "    curr_rsi = rsi[-1]\n",
      "    prev_rsi = rsi[-2]\n",
      "\n",
      "    # get available balance\n",
      "    base_balance = CA.get_balance(exchange, base)\n",
      "    quote_balance = CA.get_balance(exchange, quote)\n",
      "    available_base_amount = base_balance.available\n",
      "    available_quote_amount = quote_balance.available\n",
      "\n",
      "    # initialize signal to be 0\n",
      "    signal = 0\n",
      "\n",
      "    if curr_rsi < self.rsi_lower_band and prev_rsi >= self.rsi_lower_band:\n",
      "        # Buy Bitcoin\n",
      "        signal = 1\n",
      "    elif curr_rsi > self.rsi_upper_band and prev_rsi <= self.rsi_upper_band:\n",
      "        # Sell Bitcoin\n",
      "        signal = -1\n",
      "\n",
      "    if signal == 1:\n",
      "        self['is_shorting'] = 'false'\n",
      "        CA.log('Buy ' + base)\n",
      "        self.last_type = 'buy'\n",
      "        CA.buy(exchange, pair, available_quote_amount, CA.OrderType.MARKET)\n",
      "        \n",
      "    elif signal == -1:\n",
      "        self['is_shorting'] = 'false'\n",
      "        CA.log('Sell ' + base)\n",
      "        self.last_type = 'sell'\n",
      "        CA.sell(exchange, pair, available_base_amount, CA.OrderType.MARKET)\n",
      "\n",
      "    return\n",
      "```\n",
      "\n",
      "Make sure to update the `rsi_lower_band` and `rsi_upper_band` values in the `__init__` method to 30 and 70 respectively. This modification will make the strategy buy Bitcoin when the RSI drops below 30 and sell when it goes above 70.\n"
     ]
    }
   ],
   "source": [
    "response_1 = rag_chain.invoke({\"input\": \"I want to create a strategy where I buy Bitcoin if its RSI drops below 30 and sell if it goes above 70.\"})\n",
    "print(response_1[\"answer\"])"
   ]
  },
  {
   "cell_type": "code",
   "execution_count": 30,
   "metadata": {},
   "outputs": [
    {
     "name": "stdout",
     "output_type": "stream",
     "text": [
      "Source: RSI-en.py\n"
     ]
    }
   ],
   "source": [
    "for document in response_1[\"context\"]:\n",
    "    print(f\"Source: {document.metadata['source']}\")"
   ]
  }
 ],
 "metadata": {
  "kernelspec": {
   "display_name": "Python 3",
   "language": "python",
   "name": "python3"
  },
  "language_info": {
   "codemirror_mode": {
    "name": "ipython",
    "version": 3
   },
   "file_extension": ".py",
   "mimetype": "text/x-python",
   "name": "python",
   "nbconvert_exporter": "python",
   "pygments_lexer": "ipython3",
   "version": "3.11.3"
  }
 },
 "nbformat": 4,
 "nbformat_minor": 2
}
